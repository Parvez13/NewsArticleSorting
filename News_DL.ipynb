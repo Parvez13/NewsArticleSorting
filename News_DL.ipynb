{
  "nbformat": 4,
  "nbformat_minor": 0,
  "metadata": {
    "colab": {
      "provenance": []
    },
    "kernelspec": {
      "name": "python3",
      "display_name": "Python 3"
    },
    "language_info": {
      "name": "python"
    },
    "accelerator": "GPU",
    "gpuClass": "standard"
  },
  "cells": [
    {
      "cell_type": "markdown",
      "source": [
        "## 0.Import Libraries"
      ],
      "metadata": {
        "id": "T9hItzJIY6Gp"
      }
    },
    {
      "cell_type": "code",
      "execution_count": null,
      "metadata": {
        "id": "xAOyFmhLLRt_"
      },
      "outputs": [],
      "source": [
        "# Importing important libraries for our project\n",
        "import pandas as pd\n",
        "import matplotlib.pyplot as plt\n",
        "import numpy as np\n",
        "import re\n",
        "from sklearn.model_selection import train_test_split\n",
        "import tensorflow as tf "
      ]
    },
    {
      "cell_type": "code",
      "source": [
        "# Check tensorflow version\n",
        "tf.__version__"
      ],
      "metadata": {
        "colab": {
          "base_uri": "https://localhost:8080/",
          "height": 35
        },
        "id": "cX2e51nkkl3P",
        "outputId": "bca0f46e-1b95-4395-fdd5-9271f791423b"
      },
      "execution_count": null,
      "outputs": [
        {
          "output_type": "execute_result",
          "data": {
            "text/plain": [
              "'2.9.2'"
            ],
            "application/vnd.google.colaboratory.intrinsic+json": {
              "type": "string"
            }
          },
          "metadata": {},
          "execution_count": 2
        }
      ]
    },
    {
      "cell_type": "markdown",
      "source": [
        "## 1.Import Dataset"
      ],
      "metadata": {
        "id": "ph_doLRaZA65"
      }
    },
    {
      "cell_type": "code",
      "source": [
        "try:\n",
        "  # Load train dataset\n",
        "  df = pd.read_csv('BBC News Train.csv')\n",
        "except Exception as e:\n",
        "  print(f'Error raised!!: {e}') "
      ],
      "metadata": {
        "id": "C1V9Q-9kO0Al"
      },
      "execution_count": null,
      "outputs": []
    },
    {
      "cell_type": "code",
      "source": [
        "try:\n",
        "  # Factorize the category label with numeric label\n",
        "  df['category_id'] = df.Category.factorize()[0]\n",
        "except Exception as e:\n",
        "  print(f'Error raised!!: {e}') "
      ],
      "metadata": {
        "id": "kkMvpIz6O7p9"
      },
      "execution_count": null,
      "outputs": []
    },
    {
      "cell_type": "code",
      "source": [
        "# Check head\n",
        "df.head()"
      ],
      "metadata": {
        "colab": {
          "base_uri": "https://localhost:8080/",
          "height": 206
        },
        "id": "8Eg2c0nnPJaN",
        "outputId": "e012813f-4ac5-452c-8c98-23882ecebf37"
      },
      "execution_count": null,
      "outputs": [
        {
          "output_type": "execute_result",
          "data": {
            "text/plain": [
              "   ArticleId                                               Text  Category  \\\n",
              "0       1833  worldcom ex-boss launches defence lawyers defe...  business   \n",
              "1        154  german business confidence slides german busin...  business   \n",
              "2       1101  bbc poll indicates economic gloom citizens in ...  business   \n",
              "3       1976  lifestyle  governs mobile choice  faster  bett...      tech   \n",
              "4        917  enron bosses in $168m payout eighteen former e...  business   \n",
              "\n",
              "   category_id  \n",
              "0            0  \n",
              "1            0  \n",
              "2            0  \n",
              "3            1  \n",
              "4            0  "
            ],
            "text/html": [
              "\n",
              "  <div id=\"df-54e5c14e-5145-449f-a345-aef169f75916\">\n",
              "    <div class=\"colab-df-container\">\n",
              "      <div>\n",
              "<style scoped>\n",
              "    .dataframe tbody tr th:only-of-type {\n",
              "        vertical-align: middle;\n",
              "    }\n",
              "\n",
              "    .dataframe tbody tr th {\n",
              "        vertical-align: top;\n",
              "    }\n",
              "\n",
              "    .dataframe thead th {\n",
              "        text-align: right;\n",
              "    }\n",
              "</style>\n",
              "<table border=\"1\" class=\"dataframe\">\n",
              "  <thead>\n",
              "    <tr style=\"text-align: right;\">\n",
              "      <th></th>\n",
              "      <th>ArticleId</th>\n",
              "      <th>Text</th>\n",
              "      <th>Category</th>\n",
              "      <th>category_id</th>\n",
              "    </tr>\n",
              "  </thead>\n",
              "  <tbody>\n",
              "    <tr>\n",
              "      <th>0</th>\n",
              "      <td>1833</td>\n",
              "      <td>worldcom ex-boss launches defence lawyers defe...</td>\n",
              "      <td>business</td>\n",
              "      <td>0</td>\n",
              "    </tr>\n",
              "    <tr>\n",
              "      <th>1</th>\n",
              "      <td>154</td>\n",
              "      <td>german business confidence slides german busin...</td>\n",
              "      <td>business</td>\n",
              "      <td>0</td>\n",
              "    </tr>\n",
              "    <tr>\n",
              "      <th>2</th>\n",
              "      <td>1101</td>\n",
              "      <td>bbc poll indicates economic gloom citizens in ...</td>\n",
              "      <td>business</td>\n",
              "      <td>0</td>\n",
              "    </tr>\n",
              "    <tr>\n",
              "      <th>3</th>\n",
              "      <td>1976</td>\n",
              "      <td>lifestyle  governs mobile choice  faster  bett...</td>\n",
              "      <td>tech</td>\n",
              "      <td>1</td>\n",
              "    </tr>\n",
              "    <tr>\n",
              "      <th>4</th>\n",
              "      <td>917</td>\n",
              "      <td>enron bosses in $168m payout eighteen former e...</td>\n",
              "      <td>business</td>\n",
              "      <td>0</td>\n",
              "    </tr>\n",
              "  </tbody>\n",
              "</table>\n",
              "</div>\n",
              "      <button class=\"colab-df-convert\" onclick=\"convertToInteractive('df-54e5c14e-5145-449f-a345-aef169f75916')\"\n",
              "              title=\"Convert this dataframe to an interactive table.\"\n",
              "              style=\"display:none;\">\n",
              "        \n",
              "  <svg xmlns=\"http://www.w3.org/2000/svg\" height=\"24px\"viewBox=\"0 0 24 24\"\n",
              "       width=\"24px\">\n",
              "    <path d=\"M0 0h24v24H0V0z\" fill=\"none\"/>\n",
              "    <path d=\"M18.56 5.44l.94 2.06.94-2.06 2.06-.94-2.06-.94-.94-2.06-.94 2.06-2.06.94zm-11 1L8.5 8.5l.94-2.06 2.06-.94-2.06-.94L8.5 2.5l-.94 2.06-2.06.94zm10 10l.94 2.06.94-2.06 2.06-.94-2.06-.94-.94-2.06-.94 2.06-2.06.94z\"/><path d=\"M17.41 7.96l-1.37-1.37c-.4-.4-.92-.59-1.43-.59-.52 0-1.04.2-1.43.59L10.3 9.45l-7.72 7.72c-.78.78-.78 2.05 0 2.83L4 21.41c.39.39.9.59 1.41.59.51 0 1.02-.2 1.41-.59l7.78-7.78 2.81-2.81c.8-.78.8-2.07 0-2.86zM5.41 20L4 18.59l7.72-7.72 1.47 1.35L5.41 20z\"/>\n",
              "  </svg>\n",
              "      </button>\n",
              "      \n",
              "  <style>\n",
              "    .colab-df-container {\n",
              "      display:flex;\n",
              "      flex-wrap:wrap;\n",
              "      gap: 12px;\n",
              "    }\n",
              "\n",
              "    .colab-df-convert {\n",
              "      background-color: #E8F0FE;\n",
              "      border: none;\n",
              "      border-radius: 50%;\n",
              "      cursor: pointer;\n",
              "      display: none;\n",
              "      fill: #1967D2;\n",
              "      height: 32px;\n",
              "      padding: 0 0 0 0;\n",
              "      width: 32px;\n",
              "    }\n",
              "\n",
              "    .colab-df-convert:hover {\n",
              "      background-color: #E2EBFA;\n",
              "      box-shadow: 0px 1px 2px rgba(60, 64, 67, 0.3), 0px 1px 3px 1px rgba(60, 64, 67, 0.15);\n",
              "      fill: #174EA6;\n",
              "    }\n",
              "\n",
              "    [theme=dark] .colab-df-convert {\n",
              "      background-color: #3B4455;\n",
              "      fill: #D2E3FC;\n",
              "    }\n",
              "\n",
              "    [theme=dark] .colab-df-convert:hover {\n",
              "      background-color: #434B5C;\n",
              "      box-shadow: 0px 1px 3px 1px rgba(0, 0, 0, 0.15);\n",
              "      filter: drop-shadow(0px 1px 2px rgba(0, 0, 0, 0.3));\n",
              "      fill: #FFFFFF;\n",
              "    }\n",
              "  </style>\n",
              "\n",
              "      <script>\n",
              "        const buttonEl =\n",
              "          document.querySelector('#df-54e5c14e-5145-449f-a345-aef169f75916 button.colab-df-convert');\n",
              "        buttonEl.style.display =\n",
              "          google.colab.kernel.accessAllowed ? 'block' : 'none';\n",
              "\n",
              "        async function convertToInteractive(key) {\n",
              "          const element = document.querySelector('#df-54e5c14e-5145-449f-a345-aef169f75916');\n",
              "          const dataTable =\n",
              "            await google.colab.kernel.invokeFunction('convertToInteractive',\n",
              "                                                     [key], {});\n",
              "          if (!dataTable) return;\n",
              "\n",
              "          const docLinkHtml = 'Like what you see? Visit the ' +\n",
              "            '<a target=\"_blank\" href=https://colab.research.google.com/notebooks/data_table.ipynb>data table notebook</a>'\n",
              "            + ' to learn more about interactive tables.';\n",
              "          element.innerHTML = '';\n",
              "          dataTable['output_type'] = 'display_data';\n",
              "          await google.colab.output.renderOutput(dataTable, element);\n",
              "          const docLink = document.createElement('div');\n",
              "          docLink.innerHTML = docLinkHtml;\n",
              "          element.appendChild(docLink);\n",
              "        }\n",
              "      </script>\n",
              "    </div>\n",
              "  </div>\n",
              "  "
            ]
          },
          "metadata": {},
          "execution_count": 5
        }
      ]
    },
    {
      "cell_type": "code",
      "source": [
        "# Check tail\n",
        "df.tail()"
      ],
      "metadata": {
        "colab": {
          "base_uri": "https://localhost:8080/",
          "height": 206
        },
        "id": "CTnXIlxfPNeM",
        "outputId": "9e4a3c3a-382f-44ce-8bd2-e45ed85916cb"
      },
      "execution_count": null,
      "outputs": [
        {
          "output_type": "execute_result",
          "data": {
            "text/plain": [
              "      ArticleId                                               Text  \\\n",
              "1485        857  double eviction from big brother model caprice...   \n",
              "1486        325  dj double act revamp chart show dj duo jk and ...   \n",
              "1487       1590  weak dollar hits reuters revenues at media gro...   \n",
              "1488       1587  apple ipod family expands market apple has exp...   \n",
              "1489        538  santy worm makes unwelcome visit thousands of ...   \n",
              "\n",
              "           Category  category_id  \n",
              "1485  entertainment            4  \n",
              "1486  entertainment            4  \n",
              "1487       business            0  \n",
              "1488           tech            1  \n",
              "1489           tech            1  "
            ],
            "text/html": [
              "\n",
              "  <div id=\"df-e07b99ea-1774-4a0b-9541-32dc256f5aee\">\n",
              "    <div class=\"colab-df-container\">\n",
              "      <div>\n",
              "<style scoped>\n",
              "    .dataframe tbody tr th:only-of-type {\n",
              "        vertical-align: middle;\n",
              "    }\n",
              "\n",
              "    .dataframe tbody tr th {\n",
              "        vertical-align: top;\n",
              "    }\n",
              "\n",
              "    .dataframe thead th {\n",
              "        text-align: right;\n",
              "    }\n",
              "</style>\n",
              "<table border=\"1\" class=\"dataframe\">\n",
              "  <thead>\n",
              "    <tr style=\"text-align: right;\">\n",
              "      <th></th>\n",
              "      <th>ArticleId</th>\n",
              "      <th>Text</th>\n",
              "      <th>Category</th>\n",
              "      <th>category_id</th>\n",
              "    </tr>\n",
              "  </thead>\n",
              "  <tbody>\n",
              "    <tr>\n",
              "      <th>1485</th>\n",
              "      <td>857</td>\n",
              "      <td>double eviction from big brother model caprice...</td>\n",
              "      <td>entertainment</td>\n",
              "      <td>4</td>\n",
              "    </tr>\n",
              "    <tr>\n",
              "      <th>1486</th>\n",
              "      <td>325</td>\n",
              "      <td>dj double act revamp chart show dj duo jk and ...</td>\n",
              "      <td>entertainment</td>\n",
              "      <td>4</td>\n",
              "    </tr>\n",
              "    <tr>\n",
              "      <th>1487</th>\n",
              "      <td>1590</td>\n",
              "      <td>weak dollar hits reuters revenues at media gro...</td>\n",
              "      <td>business</td>\n",
              "      <td>0</td>\n",
              "    </tr>\n",
              "    <tr>\n",
              "      <th>1488</th>\n",
              "      <td>1587</td>\n",
              "      <td>apple ipod family expands market apple has exp...</td>\n",
              "      <td>tech</td>\n",
              "      <td>1</td>\n",
              "    </tr>\n",
              "    <tr>\n",
              "      <th>1489</th>\n",
              "      <td>538</td>\n",
              "      <td>santy worm makes unwelcome visit thousands of ...</td>\n",
              "      <td>tech</td>\n",
              "      <td>1</td>\n",
              "    </tr>\n",
              "  </tbody>\n",
              "</table>\n",
              "</div>\n",
              "      <button class=\"colab-df-convert\" onclick=\"convertToInteractive('df-e07b99ea-1774-4a0b-9541-32dc256f5aee')\"\n",
              "              title=\"Convert this dataframe to an interactive table.\"\n",
              "              style=\"display:none;\">\n",
              "        \n",
              "  <svg xmlns=\"http://www.w3.org/2000/svg\" height=\"24px\"viewBox=\"0 0 24 24\"\n",
              "       width=\"24px\">\n",
              "    <path d=\"M0 0h24v24H0V0z\" fill=\"none\"/>\n",
              "    <path d=\"M18.56 5.44l.94 2.06.94-2.06 2.06-.94-2.06-.94-.94-2.06-.94 2.06-2.06.94zm-11 1L8.5 8.5l.94-2.06 2.06-.94-2.06-.94L8.5 2.5l-.94 2.06-2.06.94zm10 10l.94 2.06.94-2.06 2.06-.94-2.06-.94-.94-2.06-.94 2.06-2.06.94z\"/><path d=\"M17.41 7.96l-1.37-1.37c-.4-.4-.92-.59-1.43-.59-.52 0-1.04.2-1.43.59L10.3 9.45l-7.72 7.72c-.78.78-.78 2.05 0 2.83L4 21.41c.39.39.9.59 1.41.59.51 0 1.02-.2 1.41-.59l7.78-7.78 2.81-2.81c.8-.78.8-2.07 0-2.86zM5.41 20L4 18.59l7.72-7.72 1.47 1.35L5.41 20z\"/>\n",
              "  </svg>\n",
              "      </button>\n",
              "      \n",
              "  <style>\n",
              "    .colab-df-container {\n",
              "      display:flex;\n",
              "      flex-wrap:wrap;\n",
              "      gap: 12px;\n",
              "    }\n",
              "\n",
              "    .colab-df-convert {\n",
              "      background-color: #E8F0FE;\n",
              "      border: none;\n",
              "      border-radius: 50%;\n",
              "      cursor: pointer;\n",
              "      display: none;\n",
              "      fill: #1967D2;\n",
              "      height: 32px;\n",
              "      padding: 0 0 0 0;\n",
              "      width: 32px;\n",
              "    }\n",
              "\n",
              "    .colab-df-convert:hover {\n",
              "      background-color: #E2EBFA;\n",
              "      box-shadow: 0px 1px 2px rgba(60, 64, 67, 0.3), 0px 1px 3px 1px rgba(60, 64, 67, 0.15);\n",
              "      fill: #174EA6;\n",
              "    }\n",
              "\n",
              "    [theme=dark] .colab-df-convert {\n",
              "      background-color: #3B4455;\n",
              "      fill: #D2E3FC;\n",
              "    }\n",
              "\n",
              "    [theme=dark] .colab-df-convert:hover {\n",
              "      background-color: #434B5C;\n",
              "      box-shadow: 0px 1px 3px 1px rgba(0, 0, 0, 0.15);\n",
              "      filter: drop-shadow(0px 1px 2px rgba(0, 0, 0, 0.3));\n",
              "      fill: #FFFFFF;\n",
              "    }\n",
              "  </style>\n",
              "\n",
              "      <script>\n",
              "        const buttonEl =\n",
              "          document.querySelector('#df-e07b99ea-1774-4a0b-9541-32dc256f5aee button.colab-df-convert');\n",
              "        buttonEl.style.display =\n",
              "          google.colab.kernel.accessAllowed ? 'block' : 'none';\n",
              "\n",
              "        async function convertToInteractive(key) {\n",
              "          const element = document.querySelector('#df-e07b99ea-1774-4a0b-9541-32dc256f5aee');\n",
              "          const dataTable =\n",
              "            await google.colab.kernel.invokeFunction('convertToInteractive',\n",
              "                                                     [key], {});\n",
              "          if (!dataTable) return;\n",
              "\n",
              "          const docLinkHtml = 'Like what you see? Visit the ' +\n",
              "            '<a target=\"_blank\" href=https://colab.research.google.com/notebooks/data_table.ipynb>data table notebook</a>'\n",
              "            + ' to learn more about interactive tables.';\n",
              "          element.innerHTML = '';\n",
              "          dataTable['output_type'] = 'display_data';\n",
              "          await google.colab.output.renderOutput(dataTable, element);\n",
              "          const docLink = document.createElement('div');\n",
              "          docLink.innerHTML = docLinkHtml;\n",
              "          element.appendChild(docLink);\n",
              "        }\n",
              "      </script>\n",
              "    </div>\n",
              "  </div>\n",
              "  "
            ]
          },
          "metadata": {},
          "execution_count": 6
        }
      ]
    },
    {
      "cell_type": "markdown",
      "source": [
        "## 2.Exploratory Data Analysis"
      ],
      "metadata": {
        "id": "0hnSu6dgZODS"
      }
    },
    {
      "cell_type": "code",
      "source": [
        "# Value counts for category column\n",
        "df.Category.value_counts()"
      ],
      "metadata": {
        "colab": {
          "base_uri": "https://localhost:8080/"
        },
        "id": "rdfCKKV7PWyk",
        "outputId": "3ead3720-c7ef-4025-959a-7e781d456ac4"
      },
      "execution_count": null,
      "outputs": [
        {
          "output_type": "execute_result",
          "data": {
            "text/plain": [
              "sport            346\n",
              "business         336\n",
              "politics         274\n",
              "entertainment    273\n",
              "tech             261\n",
              "Name: Category, dtype: int64"
            ]
          },
          "metadata": {},
          "execution_count": 7
        }
      ]
    },
    {
      "cell_type": "code",
      "source": [
        "# Null values\n",
        "df.isna().sum()"
      ],
      "metadata": {
        "colab": {
          "base_uri": "https://localhost:8080/"
        },
        "id": "G4mY0KwYZa1k",
        "outputId": "8fedcdd8-6a82-4575-9482-13f671d909e6"
      },
      "execution_count": null,
      "outputs": [
        {
          "output_type": "execute_result",
          "data": {
            "text/plain": [
              "ArticleId      0\n",
              "Text           0\n",
              "Category       0\n",
              "category_id    0\n",
              "dtype: int64"
            ]
          },
          "metadata": {},
          "execution_count": 8
        }
      ]
    },
    {
      "cell_type": "code",
      "source": [
        "# Drop na values if they are\n",
        "df.dropna(axis=0, how='any', inplace=True)"
      ],
      "metadata": {
        "id": "96_iJxrZwK2_"
      },
      "execution_count": null,
      "outputs": []
    },
    {
      "cell_type": "code",
      "source": [
        "# Null values\n",
        "df.isna().sum()"
      ],
      "metadata": {
        "colab": {
          "base_uri": "https://localhost:8080/"
        },
        "id": "QYkAyXC0wPFg",
        "outputId": "b6286064-af0c-4964-e92f-7cdfaafde536"
      },
      "execution_count": null,
      "outputs": [
        {
          "output_type": "execute_result",
          "data": {
            "text/plain": [
              "ArticleId      0\n",
              "Text           0\n",
              "Category       0\n",
              "category_id    0\n",
              "dtype: int64"
            ]
          },
          "metadata": {},
          "execution_count": 10
        }
      ]
    },
    {
      "cell_type": "code",
      "source": [
        "# Plot the category count\n",
        "import seaborn as sns \n",
        "try:\n",
        "  plt.figure(figsize=(15,8))\n",
        "  print(f'Explore the category count: \\n{sns.countplot(x=\"Category\", data=df)}')\n",
        "  plt.title('Category Count',size=15)\n",
        "  plt.ylabel('Count', size=15)\n",
        "  plt.xlabel('Category', size=15)\n",
        "  plt.xticks(size=15)\n",
        "  plt.show();\n",
        "except Exception as e:\n",
        "  print(f'Error raised!!: {e}') "
      ],
      "metadata": {
        "colab": {
          "base_uri": "https://localhost:8080/",
          "height": 560
        },
        "id": "v41yVKnPZeBQ",
        "outputId": "b03932e8-284f-450c-85a3-0d14b2964bef"
      },
      "execution_count": null,
      "outputs": [
        {
          "output_type": "stream",
          "name": "stdout",
          "text": [
            "Explore the category count: \n",
            "AxesSubplot(0.125,0.125;0.775x0.755)\n"
          ]
        },
        {
          "output_type": "display_data",
          "data": {
            "text/plain": [
              "<Figure size 1080x576 with 1 Axes>"
            ],
            "image/png": "[encoded data removed]"
          },
          "metadata": {
            "needs_background": "light"
          }
        }
      ]
    },
    {
      "cell_type": "markdown",
      "source": [
        "## 3.Data Preprocessing"
      ],
      "metadata": {
        "id": "zEoJnFNaaphZ"
      }
    },
    {
      "cell_type": "code",
      "source": [
        "# Create a functon 'preproces_text' for preprocessing of raw data\n",
        "def preprocess_text(sen):\n",
        "  try:\n",
        "    # Lowercase\n",
        "    sentence = sen.lower()\n",
        "    # Remove punctuations and numbers\n",
        "    sentence = re.sub('[^a-zA-Zäöüß]', ' ', sentence)\n",
        "    # Single character removal\n",
        "    sentence = re.sub(r\"\\s+[a-zA-Z]\\s+\", ' ', sentence)\n",
        "    # Removing multiple spaces\n",
        "    sentence = re.sub(r'\\s+', ' ', sentence)\n",
        "    return sentence\n",
        "  except Exception as e:\n",
        "   print(f'Error raised!!: {e}') \n",
        "\n",
        "# Apply function to our 'Text' column \n",
        "df.Text = df.Text.apply(preprocess_text)\n",
        "   "
      ],
      "metadata": {
        "id": "1HWwXaWsPhcY"
      },
      "execution_count": null,
      "outputs": []
    },
    {
      "cell_type": "code",
      "source": [
        "# Check examples after preprocessing of data\n",
        "df['Text'].values[:2]"
      ],
      "metadata": {
        "colab": {
          "base_uri": "https://localhost:8080/"
        },
        "id": "LVMpBkB8REEk",
        "outputId": "d41b7ef9-46fd-4729-9fd1-dc2413d4678c"
      },
      "execution_count": null,
      "outputs": [
        {
          "output_type": "execute_result",
          "data": {
            "text/plain": [
              "array(['worldcom ex boss launches defence lawyers defending former worldcom chief bernie ebbers against battery of fraud charges have called company whistleblower as their first witness cynthia cooper worldcom ex head of internal accounting alerted directors to irregular accounting practices at the us telecoms giant in her warnings led to the collapse of the firm following the discovery of an bn bn accounting fraud mr ebbers has pleaded not guilty to charges of fraud and conspiracy prosecution lawyers have argued that mr ebbers orchestrated series of accounting tricks at worldcom ordering employees to hide expenses and inflate revenues to meet wall street earnings estimates but ms cooper who now runs her own consulting business told jury in new york on wednesday that external auditors arthur andersen had approved worldcom accounting in early and she said andersen had given green light to the procedures and practices used by worldcom mr ebber lawyers have said he was unaware of the fraud arguing that auditors did not alert him to any problems ms cooper also said that during shareholder meetings mr ebbers often passed over technical questions to the company finance chief giving only brief answers himself the prosecution star witness former worldcom financial chief scott sullivan has said that mr ebbers ordered accounting adjustments at the firm telling him to hit our books however ms cooper said mr sullivan had not mentioned anything uncomfortable about worldcom accounting during audit committee meeting mr ebbers could face jail sentence of years if convicted of all the charges he is facing worldcom emerged from bankruptcy protection in and is now known as mci last week mci agreed to buyout by verizon communications in deal valued at bn ',\n",
              "       'german business confidence slides german business confidence fell in february knocking hopes of speedy recovery in europe largest economy munich based research institute ifo said that its confidence index fell to in february from in january its first decline in three months the study found that the outlook in both the manufacturing and retail sectors had worsened observers had been hoping that more confident business sector would signal that economic activity was picking up we re surprised that the ifo index has taken such knock said dz bank economist bernd weidensteiner the main reason is probably that the domestic economy is still weak particularly in the retail trade economy and labour minister wolfgang clement called the dip in february ifo confidence figure very mild decline he said that despite the retreat the index remained at relatively high level and that he expected modest economic upswing to continue germany economy grew last year after shrinking in however the economy contracted by during the last three months of mainly due to the reluctance of consumers to spend latest indications are that growth is still proving elusive and ifo president hans werner sinn said any improvement in german domestic demand was sluggish exports had kept things going during the first half of but demand for exports was then hit as the value of the euro hit record levels making german products less competitive overseas on top of that the unemployment rate has been stuck at close to and manufacturing firms including daimlerchrysler siemens and volkswagen have been negotiating with unions over cost cutting measures analysts said that the ifo figures and germany continuing problems may delay an interest rate rise by the european central bank eurozone interest rates are at but comments from senior officials have recently focused on the threat of inflation prompting fears that interest rates may rise '],\n",
              "      dtype=object)"
            ]
          },
          "metadata": {},
          "execution_count": 13
        }
      ]
    },
    {
      "cell_type": "code",
      "source": [
        "# Independent and Dependent features\n",
        "X = df['Text'].values\n",
        "y = df['Category'].values"
      ],
      "metadata": {
        "id": "CO_3a7rYQJ4T"
      },
      "execution_count": null,
      "outputs": []
    },
    {
      "cell_type": "code",
      "source": [
        "# Split the 'Independent' and 'Dependent' values as train_test_split\n",
        "X_train_sent, X_test_sent, y_train, y_test = train_test_split(X,\n",
        "                                                              y,\n",
        "                                                              test_size=0.20,\n",
        "                                                              random_state=42)"
      ],
      "metadata": {
        "id": "mNNNJI7dSGw7"
      },
      "execution_count": null,
      "outputs": []
    },
    {
      "cell_type": "markdown",
      "source": [
        "### 3.1 Turn categorical values into numerical"
      ],
      "metadata": {
        "id": "_hYTxjoD0DK9"
      }
    },
    {
      "cell_type": "code",
      "source": [
        "from sklearn.preprocessing import OneHotEncoder\n",
        "# One hot encoder\n",
        "try:\n",
        "  # Initialize oneHotEncoder to our labels\n",
        "  one_hot_encoder = OneHotEncoder(sparse=False)\n",
        "  # Train labels\n",
        "  y_train_one_hot =one_hot_encoder.fit_transform(y_train.reshape(-1,1))\n",
        "  # Test labels\n",
        "  y_test_one_hot = one_hot_encoder.transform(y_test.reshape(-1,1))\n",
        "except Exception as e:\n",
        "  print(f'Error raised!!: {e}') "
      ],
      "metadata": {
        "id": "r-Bwu1O-0HlW"
      },
      "execution_count": null,
      "outputs": []
    },
    {
      "cell_type": "code",
      "source": [
        "from sklearn.preprocessing import LabelEncoder\n",
        "# Label encoder\n",
        "try:\n",
        "  # Intialize label encoder to our labels\n",
        "  label_encoder = LabelEncoder()\n",
        "  # Train labels\n",
        "  y_train_labels_encoded = label_encoder.fit_transform(y_train.reshape(-1,1))\n",
        "  # Test labels\n",
        "  y_test_labels_encoded = label_encoder.transform(y_test.reshape(-1,1))\n",
        "except Exception as e:\n",
        "  print(f'Error raised!!: {e}') "
      ],
      "metadata": {
        "colab": {
          "base_uri": "https://localhost:8080/"
        },
        "id": "q60HtoZd0qHl",
        "outputId": "8fe8e192-9e19-4fa7-d55a-a6a48e88b885"
      },
      "execution_count": null,
      "outputs": [
        {
          "output_type": "stream",
          "name": "stderr",
          "text": [
            "/usr/local/lib/python3.7/dist-packages/sklearn/preprocessing/_label.py:115: DataConversionWarning: A column-vector y was passed when a 1d array was expected. Please change the shape of y to (n_samples, ), for example using ravel().\n",
            "  y = column_or_1d(y, warn=True)\n",
            "/usr/local/lib/python3.7/dist-packages/sklearn/preprocessing/_label.py:133: DataConversionWarning: A column-vector y was passed when a 1d array was expected. Please change the shape of y to (n_samples, ), for example using ravel().\n",
            "  y = column_or_1d(y, warn=True)\n"
          ]
        }
      ]
    },
    {
      "cell_type": "code",
      "source": [
        "# Class names\n",
        "class_names = label_encoder.classes_"
      ],
      "metadata": {
        "id": "FM4_n5Ih3dnr"
      },
      "execution_count": null,
      "outputs": []
    },
    {
      "cell_type": "code",
      "source": [
        "# Check first ten labelencoded train labels\n",
        "y_train_labels_encoded[:10]"
      ],
      "metadata": {
        "colab": {
          "base_uri": "https://localhost:8080/"
        },
        "id": "NVGBUua810IM",
        "outputId": "eb114bd0-e931-4611-8602-6c257faae279"
      },
      "execution_count": null,
      "outputs": [
        {
          "output_type": "execute_result",
          "data": {
            "text/plain": [
              "array([3, 0, 2, 3, 2, 0, 0, 1, 0, 1])"
            ]
          },
          "metadata": {},
          "execution_count": 21
        }
      ]
    },
    {
      "cell_type": "code",
      "source": [
        "# Check first ten labelencoded test labels\n",
        "y_test_labels_encoded[:10]"
      ],
      "metadata": {
        "colab": {
          "base_uri": "https://localhost:8080/"
        },
        "id": "HjK4Dvd7124z",
        "outputId": "5d80234b-e479-45b4-de24-e9f9bf16a750"
      },
      "execution_count": null,
      "outputs": [
        {
          "output_type": "execute_result",
          "data": {
            "text/plain": [
              "array([1, 2, 2, 4, 4, 0, 4, 1, 0, 4])"
            ]
          },
          "metadata": {},
          "execution_count": 22
        }
      ]
    },
    {
      "cell_type": "markdown",
      "source": [
        "### Create a baseline model"
      ],
      "metadata": {
        "id": "JgxZYKLW2F2I"
      }
    },
    {
      "cell_type": "code",
      "source": [
        "from sklearn.feature_extraction.text import TfidfVectorizer\n",
        "from sklearn.naive_bayes import MultinomialNB\n",
        "from sklearn.pipeline import Pipeline\n",
        "\n",
        "# Creating a baseline model \n",
        "try:\n",
        "  tf.random.set_seed(42)\n",
        "  model_0 = Pipeline([\n",
        "      ('tf-idf', TfidfVectorizer()),\n",
        "      ('clf', MultinomialNB())\n",
        "  ])\n",
        "except Exception as e:\n",
        "  print(f'Error raised!!: {e}') \n"
      ],
      "metadata": {
        "id": "fq8Gp3H12Iib"
      },
      "execution_count": null,
      "outputs": []
    },
    {
      "cell_type": "code",
      "source": [
        "try:\n",
        "  # Fit our train sentences and train labels to our baseline model\n",
        "  model_0.fit(X=X_train_sent,\n",
        "              y=y_train_labels_encoded)\n",
        "except Exception as e:\n",
        "  print(f'Error raised!!: {e}') "
      ],
      "metadata": {
        "id": "rZYq9FytUy0w"
      },
      "execution_count": null,
      "outputs": []
    },
    {
      "cell_type": "code",
      "source": [
        "try:\n",
        "  tf.random.set_seed(42)\n",
        "\n",
        "  # Check baseline_model performance on test sentences and test labels\n",
        "  print(f'Test Score: {model_0.score(X=X_test_sent,y=y_test_labels_encoded)}')\n",
        "except Exception as e:\n",
        "  print(f'Error raised!!: {e}') "
      ],
      "metadata": {
        "colab": {
          "base_uri": "https://localhost:8080/"
        },
        "id": "-u5rp2g02c0b",
        "outputId": "c6b9177e-b9aa-4522-d3d4-82e528763528"
      },
      "execution_count": null,
      "outputs": [
        {
          "output_type": "stream",
          "name": "stdout",
          "text": [
            "Test Score: 0.9563758389261745\n"
          ]
        }
      ]
    },
    {
      "cell_type": "code",
      "source": [
        "# Baseline model prediction labels\n",
        "baseline_preds = model_0.predict(X_test_sent)\n",
        "baseline_preds"
      ],
      "metadata": {
        "colab": {
          "base_uri": "https://localhost:8080/"
        },
        "id": "myRjits_MCxx",
        "outputId": "997c006d-109f-4cff-fdc2-279b5baea239"
      },
      "execution_count": null,
      "outputs": [
        {
          "output_type": "execute_result",
          "data": {
            "text/plain": [
              "array([0, 2, 2, 2, 3, 0, 4, 1, 0, 4, 2, 1, 0, 3, 4, 2, 0, 3, 2, 0, 4, 1,\n",
              "       3, 0, 3, 4, 0, 3, 4, 0, 3, 0, 0, 2, 3, 4, 2, 0, 1, 4, 3, 0, 2, 0,\n",
              "       3, 0, 2, 4, 2, 0, 3, 3, 0, 3, 2, 1, 1, 2, 0, 1, 4, 0, 2, 4, 4, 4,\n",
              "       0, 4, 2, 2, 2, 3, 3, 3, 1, 1, 0, 2, 0, 0, 0, 3, 3, 3, 0, 1, 3, 0,\n",
              "       0, 4, 1, 0, 2, 4, 0, 2, 4, 4, 1, 2, 1, 2, 1, 3, 4, 3, 2, 3, 0, 4,\n",
              "       3, 0, 4, 1, 4, 0, 2, 0, 1, 0, 2, 3, 0, 2, 0, 0, 4, 4, 2, 1, 0, 3,\n",
              "       1, 3, 0, 2, 0, 1, 0, 1, 0, 1, 4, 3, 1, 2, 0, 4, 2, 2, 3, 0, 4, 3,\n",
              "       1, 4, 4, 3, 4, 3, 3, 2, 0, 0, 2, 2, 4, 3, 3, 4, 2, 4, 4, 1, 0, 4,\n",
              "       1, 3, 0, 0, 3, 3, 4, 1, 1, 0, 4, 2, 1, 2, 3, 3, 2, 4, 3, 3, 2, 3,\n",
              "       3, 0, 1, 2, 3, 1, 0, 3, 4, 4, 0, 0, 3, 2, 0, 1, 3, 2, 2, 3, 4, 2,\n",
              "       3, 4, 0, 0, 1, 4, 0, 2, 2, 2, 2, 3, 3, 0, 0, 4, 0, 3, 3, 2, 2, 1,\n",
              "       1, 1, 0, 0, 1, 1, 3, 1, 3, 2, 4, 3, 2, 4, 1, 3, 4, 0, 0, 2, 4, 4,\n",
              "       4, 3, 3, 0, 2, 1, 3, 3, 4, 3, 3, 2, 3, 3, 0, 2, 3, 0, 0, 2, 0, 0,\n",
              "       0, 4, 2, 1, 0, 0, 0, 0, 2, 1, 4, 1])"
            ]
          },
          "metadata": {},
          "execution_count": 26
        }
      ]
    },
    {
      "cell_type": "code",
      "source": [
        "from sklearn.metrics import accuracy_score, precision_recall_fscore_support\n",
        "\n",
        "# Function for evaluation metrics to check our model performances\n",
        "def calculate_results(y_true, y_pred):\n",
        "  \"\"\"\n",
        "  Calculates model accuracy, precision, recall and f1 score of a binary classification model.\n",
        "\n",
        "  Args:\n",
        "      y_true: true labels in the form of a 1D array\n",
        "      y_pred: predicted labels in the form of a 1D array\n",
        "\n",
        "  Returns a dictionary of accuracy, precision, recall, f1-score.\n",
        "  \"\"\"\n",
        "  # Calculate model accuracy\n",
        "  model_accuracy = accuracy_score(y_true, y_pred) * 100\n",
        "  # Calculate model precision, recall and f1 score using \"weighted average\n",
        "  model_precision, model_recall, model_f1, _ = precision_recall_fscore_support(y_true, \n",
        "                                                                               y_pred, \n",
        "                                                                               average=\"weighted\")\n",
        "  model_results = {\"accuracy\": model_accuracy,\n",
        "                  \"precision\": model_precision,\n",
        "                  \"recall\": model_recall,\n",
        "                  \"f1\": model_f1}\n",
        "  return model_results"
      ],
      "metadata": {
        "id": "AsjAewAsN8nB"
      },
      "execution_count": null,
      "outputs": []
    },
    {
      "cell_type": "code",
      "source": [
        "# Baseline model performance on different classification metrics\n",
        "baseline_results = calculate_results(y_true = y_test_labels_encoded,\n",
        "                                     y_pred=baseline_preds)\n",
        "baseline_results"
      ],
      "metadata": {
        "colab": {
          "base_uri": "https://localhost:8080/"
        },
        "id": "mluHSElOL0i5",
        "outputId": "4d30f1e8-2816-4d3a-e79e-874726a12c7c"
      },
      "execution_count": null,
      "outputs": [
        {
          "output_type": "execute_result",
          "data": {
            "text/plain": [
              "{'accuracy': 95.63758389261746,\n",
              " 'precision': 0.9578462326169593,\n",
              " 'recall': 0.9563758389261745,\n",
              " 'f1': 0.9562455692796806}"
            ]
          },
          "metadata": {},
          "execution_count": 28
        }
      ]
    },
    {
      "cell_type": "markdown",
      "source": [
        "### 3.2 Tokenizer and Padding"
      ],
      "metadata": {
        "id": "uvr1HFxy2uTe"
      }
    },
    {
      "cell_type": "code",
      "source": [
        "sent_lens = [len(sent.split()) for sent in df['Text'].values]\n",
        "# Counting how many sentences are having length more than 500 words using histogram\n",
        "plt.hist(sent_lens, bins=10);\n",
        "plt.title('Checking sentences info')\n",
        "plt.xlabel('Sentence length')\n",
        "plt.ylabel('Sentence Count')\n",
        "plt.show();"
      ],
      "metadata": {
        "colab": {
          "base_uri": "https://localhost:8080/",
          "height": 295
        },
        "id": "bpMRk8R7cXHO",
        "outputId": "08b2adbe-9f43-406b-9200-fe971b44b240"
      },
      "execution_count": null,
      "outputs": [
        {
          "output_type": "display_data",
          "data": {
            "text/plain": [
              "<Figure size 432x288 with 1 Axes>"
            ],
            "image/png": "[encoded data removed]"
          },
          "metadata": {
            "needs_background": "light"
          }
        }
      ]
    },
    {
      "cell_type": "code",
      "source": [
        "# 90 percentage of our sentences are having length of \n",
        "output_seq_len = int(np.percentile(sent_lens, 90))\n",
        "output_seq_len"
      ],
      "metadata": {
        "colab": {
          "base_uri": "https://localhost:8080/"
        },
        "id": "bp2C7LdacTvB",
        "outputId": "1d64aebd-da7b-4e11-e915-14a99328d59b"
      },
      "execution_count": null,
      "outputs": [
        {
          "output_type": "execute_result",
          "data": {
            "text/plain": [
              "593"
            ]
          },
          "metadata": {},
          "execution_count": 30
        }
      ]
    },
    {
      "cell_type": "code",
      "source": [
        "from tensorflow.keras.preprocessing.text import Tokenizer\n",
        "from tensorflow.keras.utils import pad_sequences\n",
        "\n",
        "# Add tokens to our words and padding to the tokens according to sentence length.\n",
        "def tokenizer_and_padding(X_train_sent, X_test_sent, max_features=10000):\n",
        "  max_features=max_features\n",
        "  # tokenizer\n",
        "  tokenizer = Tokenizer(num_words=max_features)\n",
        "  tokenizer.fit_on_texts(X_train_sent)\n",
        "  # texts_to_sequences\n",
        "  X_train = tokenizer.texts_to_sequences(X_train_sent)\n",
        "  X_test = tokenizer.texts_to_sequences(X_test_sent)\n",
        "  # pad_sequences\n",
        "  X_train = pad_sequences(X_train, padding = 'post',maxlen=output_seq_len)\n",
        "  X_test  =  pad_sequences(X_test, padding = 'post',maxlen=output_seq_len)\n",
        "  return X_train, X_test, tokenizer\n",
        "\n"
      ],
      "metadata": {
        "id": "TGjGhWJLx0Du"
      },
      "execution_count": null,
      "outputs": []
    },
    {
      "cell_type": "code",
      "source": [
        "# Get X_train and X_test sentences mapped to tokenizer and padding\n",
        "X_train, X_test, tokenizer = tokenizer_and_padding(X_train_sent, X_test_sent)"
      ],
      "metadata": {
        "id": "HUlCJWtwy_qx"
      },
      "execution_count": null,
      "outputs": []
    },
    {
      "cell_type": "code",
      "source": [
        "# Check first ten mapped X_train and X_test\n",
        "X_train[:10], X_test[:10]"
      ],
      "metadata": {
        "colab": {
          "base_uri": "https://localhost:8080/"
        },
        "id": "dMN6-yltzHzV",
        "outputId": "7909410c-bc69-4412-83b7-f20e0cc224ba"
      },
      "execution_count": null,
      "outputs": [
        {
          "output_type": "execute_result",
          "data": {
            "text/plain": [
              "(array([[ 714, 4893,  945, ...,    0,    0,    0],\n",
              "        [ 511, 2175,    6, ...,    0,    0,    0],\n",
              "        [ 771,  221,  817, ...,    0,    0,    0],\n",
              "        ...,\n",
              "        [  46,  158,  875, ...,    0,    0,    0],\n",
              "        [5356, 2990,  286, ...,    0,    0,    0],\n",
              "        [3940,  535,  581, ...,    0,    0,    0]], dtype=int32),\n",
              " array([[   7, 2645,   58, ...,    0,    0,    0],\n",
              "        [ 266,  138,   58, ...,    0,    0,    0],\n",
              "        [1634,  661,  138, ...,    0,    0,    0],\n",
              "        ...,\n",
              "        [5055,    3, 3168, ...,    0,    0,    0],\n",
              "        [3066, 6174,  190, ...,    0,    0,    0],\n",
              "        [3095,  723, 1439, ...,    0,    0,    0]], dtype=int32))"
            ]
          },
          "metadata": {},
          "execution_count": 33
        }
      ]
    },
    {
      "cell_type": "code",
      "source": [
        "# Shape of X_train and X_test\n",
        "print('x_train shape:', X_train.shape)\n",
        "print('x_test shape:', X_test.shape)"
      ],
      "metadata": {
        "colab": {
          "base_uri": "https://localhost:8080/"
        },
        "id": "WllKLsVmzqew",
        "outputId": "809a5b9e-d8c4-45d5-af64-1518222e9514"
      },
      "execution_count": null,
      "outputs": [
        {
          "output_type": "stream",
          "name": "stdout",
          "text": [
            "x_train shape: (1192, 593)\n",
            "x_test shape: (298, 593)\n"
          ]
        }
      ]
    },
    {
      "cell_type": "code",
      "source": [
        "import json\n",
        "# Save our tokenizer layer which is used in prediction\n",
        "try:\n",
        "  tokenizer_json = tokenizer.to_json()\n",
        "  with open('tokenizer.json', 'w', encoding='utf-8') as f:\n",
        "      f.write(json.dumps(tokenizer_json, ensure_ascii=True))\n",
        "except Exception as e:\n",
        "  print(f'Error raised!!: {e}') "
      ],
      "metadata": {
        "id": "UAYPsz4OZsKv"
      },
      "execution_count": null,
      "outputs": []
    },
    {
      "cell_type": "markdown",
      "source": [
        "### 3.3 Model Callbacks:TensorBoard (for model experiment tracking)"
      ],
      "metadata": {
        "id": "YH2NweklbLYm"
      }
    },
    {
      "cell_type": "code",
      "source": [
        "import datetime\n",
        "# Tensorboard callback\n",
        "def tensorboard_callback(dir_name, experiment_name):\n",
        "    \"\"\"\n",
        "    Creates a TensorBoard callback instand to store log files.\n",
        "    \n",
        "    Stores log files with the filepath:\n",
        "    \"dir_name/experiment_name/current_datetime/\"\n",
        "    \n",
        "    Args:\n",
        "      dir_name: target directory to store TensorBoard log files\n",
        "      experiment_name: name of experiment directory (e.g. efficientnet_model_1)\n",
        "    \n",
        "    \"\"\"\n",
        "    try:\n",
        "      log_dir = dir_name + '/'+ experiment_name + '/' + datetime.datetime.now().strftime(\"%Y%m%d-%H%M%S\")\n",
        "      tensorboard_callback = tf.keras.callbacks.TensorBoard(\n",
        "          log_dir = log_dir\n",
        "      )\n",
        "      print(f\"Saving TensorBoard log files to : {log_dir}\")\n",
        "      return tensorboard_callback \n",
        "    except Exception as e:\n",
        "      print(f'Error raisded!!: {e}')"
      ],
      "metadata": {
        "id": "Kwbsw3qPbK2J"
      },
      "execution_count": null,
      "outputs": []
    },
    {
      "cell_type": "markdown",
      "source": [
        "### 3.4 Function for plotting loss curves"
      ],
      "metadata": {
        "id": "vriKpymTcPo1"
      }
    },
    {
      "cell_type": "code",
      "source": [
        "import matplotlib.pyplot as plt\n",
        "\n",
        "# Plotlosscurves\n",
        "def plot_loss_curves(history):\n",
        "  \"\"\"\n",
        "  Returns separate loss curves for training and validation metrics.\n",
        "  Args:\n",
        "    history: TensorFlow model History object (see: https://www.tensorflow.org/api_docs/python/tf/keras/callbacks/History)\n",
        "  \"\"\" \n",
        "  loss = history.history['loss']\n",
        "  val_loss = history.history['val_loss']\n",
        "\n",
        "  accuracy = history.history['accuracy']\n",
        "  val_accuracy = history.history['val_accuracy']\n",
        "\n",
        "  epochs = range(len(history.history['loss']))\n",
        "\n",
        "  # Plot loss\n",
        "  plt.plot(epochs, loss, label='training_loss')\n",
        "  plt.plot(epochs, val_loss, label='val_loss')\n",
        "  plt.title('Loss')\n",
        "  plt.xlabel('Epochs')\n",
        "  plt.legend()\n",
        "\n",
        "  # Plot accuracy\n",
        "  plt.figure()\n",
        "  plt.plot(epochs, accuracy, label='training_accuracy')\n",
        "  plt.plot(epochs, val_accuracy, label='val_accuracy')\n",
        "  plt.title('Accuracy')\n",
        "  plt.xlabel('Epochs')\n",
        "  plt.legend();"
      ],
      "metadata": {
        "id": "yLOd7awXbsKa"
      },
      "execution_count": null,
      "outputs": []
    },
    {
      "cell_type": "markdown",
      "source": [
        "## 4.Data Modelling\n"
      ],
      "metadata": {
        "id": "rABPgC3KWx68"
      }
    },
    {
      "cell_type": "markdown",
      "source": [
        "### 4.1 Simple Baseline dense model"
      ],
      "metadata": {
        "id": "ATdH6um_1ldF"
      }
    },
    {
      "cell_type": "code",
      "source": [
        "# Hyperparameters\n",
        "max_features = 10000\n",
        "embedding_dims = 128\n",
        "batch_size = 32\n",
        "epochs = 10"
      ],
      "metadata": {
        "id": "BDQlr13Q1pkH"
      },
      "execution_count": null,
      "outputs": []
    },
    {
      "cell_type": "code",
      "source": [
        "from tensorflow.keras import layers\n",
        "# Model_1\n",
        "try:\n",
        "  model_1 = tf.keras.Sequential([\n",
        "      layers.Embedding(max_features,\n",
        "                      embedding_dims,\n",
        "                      input_length=output_seq_len),\n",
        "      layers.GlobalAveragePooling1D(),\n",
        "      layers.Dense(100, activation='relu'),\n",
        "      layers.Dense(100, activation='relu'),\n",
        "      layers.Dense(256, activation='relu'),\n",
        "      layers.Dense(len(class_names), activation='softmax')\n",
        "  ])\n",
        "except Exception as e:\n",
        "  print(f'Error raised!!: {e}') "
      ],
      "metadata": {
        "id": "Dw6CWul_Z9wm"
      },
      "execution_count": null,
      "outputs": []
    },
    {
      "cell_type": "code",
      "source": [
        "try:\n",
        "  # Compile simple dense model\n",
        "  model_1.compile(loss='categorical_crossentropy',\n",
        "                optimizer='adam',\n",
        "                metrics=['accuracy'])\n",
        "except Exception as e:\n",
        "  print(f'Error raised!!: {e}') "
      ],
      "metadata": {
        "id": "0t-xd2bsbnM2"
      },
      "execution_count": null,
      "outputs": []
    },
    {
      "cell_type": "code",
      "source": [
        "# Simple dense model summary\n",
        "model_1.summary()"
      ],
      "metadata": {
        "colab": {
          "base_uri": "https://localhost:8080/"
        },
        "id": "adLndth8Vc9P",
        "outputId": "9e5dd266-7f1a-4cdf-9af9-51b767b0ecdc"
      },
      "execution_count": null,
      "outputs": [
        {
          "output_type": "stream",
          "name": "stdout",
          "text": [
            "Model: \"sequential\"\n",
            "_________________________________________________________________\n",
            " Layer (type)                Output Shape              Param #   \n",
            "=================================================================\n",
            " embedding (Embedding)       (None, 593, 128)          1280000   \n",
            "                                                                 \n",
            " global_average_pooling1d (G  (None, 128)              0         \n",
            " lobalAveragePooling1D)                                          \n",
            "                                                                 \n",
            " dense (Dense)               (None, 100)               12900     \n",
            "                                                                 \n",
            " dense_1 (Dense)             (None, 100)               10100     \n",
            "                                                                 \n",
            " dense_2 (Dense)             (None, 256)               25856     \n",
            "                                                                 \n",
            " dense_3 (Dense)             (None, 5)                 1285      \n",
            "                                                                 \n",
            "=================================================================\n",
            "Total params: 1,330,141\n",
            "Trainable params: 1,330,141\n",
            "Non-trainable params: 0\n",
            "_________________________________________________________________\n"
          ]
        }
      ]
    },
    {
      "cell_type": "code",
      "source": [
        "try:\n",
        "  tf.random.set_seed(42)\n",
        "  # Fit sentences and labels to our model\n",
        "  model_1_history = model_1.fit(X_train, y_train_one_hot,\n",
        "            batch_size=batch_size,\n",
        "            epochs=epochs,\n",
        "            validation_data=(X_test, y_test_one_hot),\n",
        "            callbacks=[tensorboard_callback(dir_name='Model_Tracking',\n",
        "                                            experiment_name='simple_dense_model')])\n",
        "except Exception as e:\n",
        "  print(f'Error raised!!: {e}') "
      ],
      "metadata": {
        "id": "EBRfjDYLb4G-",
        "colab": {
          "base_uri": "https://localhost:8080/"
        },
        "outputId": "3eced317-2731-471c-9696-9d7e1b4efd2f"
      },
      "execution_count": null,
      "outputs": [
        {
          "output_type": "stream",
          "name": "stdout",
          "text": [
            "Saving TensorBoard log files to : Model_Tracking/simple_dense_model/20221118-025715\n",
            "Epoch 1/10\n",
            "38/38 [==============================] - 3s 10ms/step - loss: 1.5719 - accuracy: 0.2651 - val_loss: 1.4848 - val_accuracy: 0.3289\n",
            "Epoch 2/10\n",
            "38/38 [==============================] - 0s 7ms/step - loss: 1.2822 - accuracy: 0.4371 - val_loss: 1.0472 - val_accuracy: 0.5470\n",
            "Epoch 3/10\n",
            "38/38 [==============================] - 0s 5ms/step - loss: 0.7765 - accuracy: 0.6846 - val_loss: 0.6362 - val_accuracy: 0.7416\n",
            "Epoch 4/10\n",
            "38/38 [==============================] - 0s 6ms/step - loss: 0.3999 - accuracy: 0.8951 - val_loss: 0.4756 - val_accuracy: 0.8456\n",
            "Epoch 5/10\n",
            "38/38 [==============================] - 0s 6ms/step - loss: 0.1451 - accuracy: 0.9782 - val_loss: 0.3605 - val_accuracy: 0.8624\n",
            "Epoch 6/10\n",
            "38/38 [==============================] - 0s 5ms/step - loss: 0.0536 - accuracy: 0.9950 - val_loss: 0.2832 - val_accuracy: 0.9027\n",
            "Epoch 7/10\n",
            "38/38 [==============================] - 0s 6ms/step - loss: 0.0206 - accuracy: 0.9958 - val_loss: 0.2992 - val_accuracy: 0.8960\n",
            "Epoch 8/10\n",
            "38/38 [==============================] - 0s 7ms/step - loss: 0.0095 - accuracy: 1.0000 - val_loss: 0.2601 - val_accuracy: 0.9060\n",
            "Epoch 9/10\n",
            "38/38 [==============================] - 0s 7ms/step - loss: 0.0055 - accuracy: 1.0000 - val_loss: 0.2577 - val_accuracy: 0.8993\n",
            "Epoch 10/10\n",
            "38/38 [==============================] - 0s 6ms/step - loss: 0.0034 - accuracy: 1.0000 - val_loss: 0.2507 - val_accuracy: 0.9027\n"
          ]
        }
      ]
    },
    {
      "cell_type": "code",
      "source": [
        "# Check the model performance on both train and test dataset using graph\n",
        "plot_loss_curves(model_1_history)"
      ],
      "metadata": {
        "colab": {
          "base_uri": "https://localhost:8080/",
          "height": 573
        },
        "id": "E6oVs90uYEQo",
        "outputId": "3056e604-b0ae-49ae-a823-1b69a3fa0549"
      },
      "execution_count": null,
      "outputs": [
        {
          "output_type": "display_data",
          "data": {
            "text/plain": [
              "<Figure size 432x288 with 1 Axes>"
            ],
            "image/png": "[encoded data removed]"
          },
          "metadata": {
            "needs_background": "light"
          }
        },
        {
          "output_type": "display_data",
          "data": {
            "text/plain": [
              "<Figure size 432x288 with 1 Axes>"
            ],
            "image/png": "[encoded data removed]"
          },
          "metadata": {
            "needs_background": "light"
          }
        }
      ]
    },
    {
      "cell_type": "code",
      "source": [
        "# Evaluate on the test set\n",
        "model_1.evaluate(X_test,y_test_one_hot)"
      ],
      "metadata": {
        "colab": {
          "base_uri": "https://localhost:8080/"
        },
        "id": "EZfBUk6xXvJo",
        "outputId": "8cb0970e-0eb4-4471-d177-07c25fa9009b"
      },
      "execution_count": null,
      "outputs": [
        {
          "output_type": "stream",
          "name": "stdout",
          "text": [
            "10/10 [==============================] - 0s 3ms/step - loss: 0.2507 - accuracy: 0.9027\n"
          ]
        },
        {
          "output_type": "execute_result",
          "data": {
            "text/plain": [
              "[0.2507094442844391, 0.9026845693588257]"
            ]
          },
          "metadata": {},
          "execution_count": 44
        }
      ]
    },
    {
      "cell_type": "code",
      "source": [
        "# Get model prediction probabilities\n",
        "model_1_pred_probs = model_1.predict(X_test)\n",
        "model_1_pred_probs[:5]"
      ],
      "metadata": {
        "colab": {
          "base_uri": "https://localhost:8080/"
        },
        "id": "GDeKqiTpWmsg",
        "outputId": "1016029b-9447-4866-aa05-a8c30ca5164e"
      },
      "execution_count": null,
      "outputs": [
        {
          "output_type": "stream",
          "name": "stdout",
          "text": [
            "10/10 [==============================] - 0s 2ms/step\n"
          ]
        },
        {
          "output_type": "execute_result",
          "data": {
            "text/plain": [
              "array([[7.1737266e-01, 2.6850494e-02, 2.5478914e-01, 1.0435350e-06,\n",
              "        9.8662777e-04],\n",
              "       [3.0781623e-06, 7.6983042e-07, 9.9986792e-01, 5.1509869e-15,\n",
              "        1.2824497e-04],\n",
              "       [7.5959701e-06, 1.9410127e-05, 9.9996150e-01, 3.6192783e-13,\n",
              "        1.1418212e-05],\n",
              "       [1.3536451e-08, 6.5614365e-13, 7.4236123e-05, 1.4543073e-21,\n",
              "        9.9992573e-01],\n",
              "       [4.0392569e-01, 1.1195198e-02, 5.8010066e-01, 4.5985803e-07,\n",
              "        4.7779428e-03]], dtype=float32)"
            ]
          },
          "metadata": {},
          "execution_count": 45
        }
      ]
    },
    {
      "cell_type": "code",
      "source": [
        "# Turn prediction probabilities into prediction labels\n",
        "model_1_preds = tf.argmax(model_1_pred_probs, axis=1)\n",
        "model_1_preds"
      ],
      "metadata": {
        "colab": {
          "base_uri": "https://localhost:8080/"
        },
        "id": "bsT5GwOew8ce",
        "outputId": "a7febfa7-a2e1-471e-e17c-aa00c41cefb6"
      },
      "execution_count": null,
      "outputs": [
        {
          "output_type": "execute_result",
          "data": {
            "text/plain": [
              "<tf.Tensor: shape=(298,), dtype=int64, numpy=\n",
              "array([0, 2, 2, 4, 2, 0, 4, 1, 0, 4, 2, 1, 0, 3, 4, 2, 0, 1, 2, 0, 4, 1,\n",
              "       3, 0, 3, 4, 0, 3, 4, 0, 3, 0, 0, 2, 3, 2, 1, 1, 1, 4, 3, 2, 2, 0,\n",
              "       3, 0, 2, 4, 2, 0, 3, 3, 0, 3, 2, 1, 1, 2, 0, 1, 4, 0, 1, 4, 4, 4,\n",
              "       0, 4, 2, 2, 2, 3, 3, 3, 1, 1, 0, 2, 0, 0, 0, 3, 3, 3, 0, 1, 3, 0,\n",
              "       0, 4, 1, 0, 2, 4, 0, 2, 4, 4, 1, 2, 1, 2, 1, 3, 4, 3, 2, 3, 0, 4,\n",
              "       4, 0, 4, 1, 4, 0, 2, 0, 1, 0, 2, 3, 0, 2, 0, 0, 4, 4, 2, 1, 0, 3,\n",
              "       1, 3, 4, 2, 0, 1, 0, 1, 0, 1, 4, 3, 1, 2, 4, 4, 2, 0, 3, 0, 2, 3,\n",
              "       1, 4, 4, 3, 4, 3, 3, 2, 0, 4, 2, 2, 4, 1, 3, 4, 2, 4, 4, 1, 0, 2,\n",
              "       1, 3, 0, 0, 3, 3, 4, 1, 2, 0, 4, 4, 1, 2, 3, 3, 2, 4, 3, 3, 2, 3,\n",
              "       3, 0, 1, 2, 3, 1, 0, 3, 4, 4, 0, 4, 3, 2, 0, 1, 3, 2, 2, 3, 4, 2,\n",
              "       3, 4, 0, 0, 1, 2, 0, 2, 2, 2, 2, 3, 3, 0, 0, 4, 0, 3, 3, 2, 2, 1,\n",
              "       2, 1, 0, 0, 1, 1, 3, 0, 1, 1, 4, 1, 2, 4, 1, 3, 4, 0, 0, 2, 2, 4,\n",
              "       4, 3, 3, 0, 2, 1, 1, 1, 4, 3, 3, 1, 3, 3, 0, 2, 1, 0, 0, 2, 0, 0,\n",
              "       0, 4, 2, 1, 4, 0, 0, 0, 0, 1, 4, 1])>"
            ]
          },
          "metadata": {},
          "execution_count": 46
        }
      ]
    },
    {
      "cell_type": "code",
      "source": [
        "# Get the model results on evalution metrics\n",
        "model_1_results = calculate_results(y_true=y_test_labels_encoded,\n",
        "                                    y_pred=model_1_preds)\n",
        "model_1_results"
      ],
      "metadata": {
        "colab": {
          "base_uri": "https://localhost:8080/"
        },
        "id": "vEKpWlc-fPkb",
        "outputId": "0782c561-7ad5-48ca-bdc4-280cf5a95c76"
      },
      "execution_count": null,
      "outputs": [
        {
          "output_type": "execute_result",
          "data": {
            "text/plain": [
              "{'accuracy': 90.26845637583892,\n",
              " 'precision': 0.9076351500848144,\n",
              " 'recall': 0.9026845637583892,\n",
              " 'f1': 0.9039718780421445}"
            ]
          },
          "metadata": {},
          "execution_count": 47
        }
      ]
    },
    {
      "cell_type": "markdown",
      "source": [
        "### 4.2 Conv1D"
      ],
      "metadata": {
        "id": "oETjxoHU2b61"
      }
    },
    {
      "cell_type": "code",
      "source": [
        "# Model 2 conv1d\n",
        "try:\n",
        "  model_2 = tf.keras.Sequential([\n",
        "      # Embedding layer\n",
        "      layers.Embedding(max_features,\n",
        "                      embedding_dims,\n",
        "                      input_length=output_seq_len),\n",
        "      layers.Dropout(0.2),\n",
        "\n",
        "      # Conv1D\n",
        "      layers.Conv1D(filters=250,\n",
        "                    kernel_size=3,\n",
        "                    padding='valid',\n",
        "                    activation='relu',\n",
        "                    strides=1),\n",
        "      # Pooling layer\n",
        "      layers.GlobalMaxPooling1D(),\n",
        "      layers.Dense(250, activation='relu'),\n",
        "      layers.Dropout(0.2),\n",
        "      layers.Dense(len(class_names), activation='softmax')\n",
        "  ])\n",
        "except Exception as e:\n",
        "  print(f'Error raised!!: {e}') "
      ],
      "metadata": {
        "id": "M2_ZXkjW2LvM"
      },
      "execution_count": null,
      "outputs": []
    },
    {
      "cell_type": "code",
      "source": [
        "# Compile\n",
        "try:\n",
        "  model_2.compile(loss='categorical_crossentropy',\n",
        "                  optimizer='adam',\n",
        "                  metrics=['accuracy'])\n",
        "except Exception as e:\n",
        "  print(f'Error raised!!: {e}') "
      ],
      "metadata": {
        "id": "bOlHIXQn27Iq"
      },
      "execution_count": null,
      "outputs": []
    },
    {
      "cell_type": "code",
      "source": [
        "# model summary\n",
        "model_2.summary()"
      ],
      "metadata": {
        "colab": {
          "base_uri": "https://localhost:8080/"
        },
        "id": "lpT0DRu1VsqI",
        "outputId": "88ca8df4-be7e-4819-ba80-034183acf62a"
      },
      "execution_count": null,
      "outputs": [
        {
          "output_type": "stream",
          "name": "stdout",
          "text": [
            "Model: \"sequential_1\"\n",
            "_________________________________________________________________\n",
            " Layer (type)                Output Shape              Param #   \n",
            "=================================================================\n",
            " embedding_1 (Embedding)     (None, 593, 128)          1280000   \n",
            "                                                                 \n",
            " dropout (Dropout)           (None, 593, 128)          0         \n",
            "                                                                 \n",
            " conv1d (Conv1D)             (None, 591, 250)          96250     \n",
            "                                                                 \n",
            " global_max_pooling1d (Globa  (None, 250)              0         \n",
            " lMaxPooling1D)                                                  \n",
            "                                                                 \n",
            " dense_4 (Dense)             (None, 250)               62750     \n",
            "                                                                 \n",
            " dropout_1 (Dropout)         (None, 250)               0         \n",
            "                                                                 \n",
            " dense_5 (Dense)             (None, 5)                 1255      \n",
            "                                                                 \n",
            "=================================================================\n",
            "Total params: 1,440,255\n",
            "Trainable params: 1,440,255\n",
            "Non-trainable params: 0\n",
            "_________________________________________________________________\n"
          ]
        }
      ]
    },
    {
      "cell_type": "code",
      "source": [
        "try:\n",
        "  tf.random.set_seed(42)\n",
        "  # Fit sentences and labels to our model\n",
        "  model_2_history = model_2.fit(X_train,\n",
        "                                y_train_one_hot,\n",
        "                                batch_size=batch_size,\n",
        "                                epochs=epochs,\n",
        "                                validation_data=(X_test,y_test_one_hot),\n",
        "                                callbacks=[tensorboard_callback(dir_name='Model_Tracking',\n",
        "                                                                experiment_name='Conv1D_Model')])\n",
        "except Exception as e:\n",
        "  print(f'Error raised!!: {e}') "
      ],
      "metadata": {
        "colab": {
          "base_uri": "https://localhost:8080/"
        },
        "id": "dx19J5ww9sUn",
        "outputId": "131f23b8-18ac-42aa-fcdf-a7a2091e82b1"
      },
      "execution_count": null,
      "outputs": [
        {
          "output_type": "stream",
          "name": "stdout",
          "text": [
            "Saving TensorBoard log files to : Model_Tracking/Conv1D_Model/20221118-025722\n",
            "Epoch 1/10\n",
            "38/38 [==============================] - 7s 18ms/step - loss: 1.6019 - accuracy: 0.2257 - val_loss: 1.5494 - val_accuracy: 0.2148\n",
            "Epoch 2/10\n",
            "38/38 [==============================] - 0s 11ms/step - loss: 1.3309 - accuracy: 0.5831 - val_loss: 0.8617 - val_accuracy: 0.7987\n",
            "Epoch 3/10\n",
            "38/38 [==============================] - 0s 11ms/step - loss: 0.5241 - accuracy: 0.8658 - val_loss: 0.2224 - val_accuracy: 0.9530\n",
            "Epoch 4/10\n",
            "38/38 [==============================] - 0s 11ms/step - loss: 0.1521 - accuracy: 0.9572 - val_loss: 0.1196 - val_accuracy: 0.9698\n",
            "Epoch 5/10\n",
            "38/38 [==============================] - 0s 10ms/step - loss: 0.0508 - accuracy: 0.9908 - val_loss: 0.0953 - val_accuracy: 0.9664\n",
            "Epoch 6/10\n",
            "38/38 [==============================] - 0s 11ms/step - loss: 0.0247 - accuracy: 0.9966 - val_loss: 0.0818 - val_accuracy: 0.9698\n",
            "Epoch 7/10\n",
            "38/38 [==============================] - 0s 11ms/step - loss: 0.0152 - accuracy: 0.9992 - val_loss: 0.0808 - val_accuracy: 0.9765\n",
            "Epoch 8/10\n",
            "38/38 [==============================] - 0s 10ms/step - loss: 0.0055 - accuracy: 1.0000 - val_loss: 0.0773 - val_accuracy: 0.9732\n",
            "Epoch 9/10\n",
            "38/38 [==============================] - 0s 10ms/step - loss: 0.0037 - accuracy: 1.0000 - val_loss: 0.0732 - val_accuracy: 0.9732\n",
            "Epoch 10/10\n",
            "38/38 [==============================] - 0s 10ms/step - loss: 0.0029 - accuracy: 1.0000 - val_loss: 0.0750 - val_accuracy: 0.9732\n"
          ]
        }
      ]
    },
    {
      "cell_type": "code",
      "source": [
        "# # Check the model performance on both train and test dataset using graph\n",
        "plot_loss_curves(model_2_history)"
      ],
      "metadata": {
        "colab": {
          "base_uri": "https://localhost:8080/",
          "height": 573
        },
        "id": "UoSk0fCk_3LV",
        "outputId": "dec9bfb7-b0f9-48a2-c2c5-1c2022a5246c"
      },
      "execution_count": null,
      "outputs": [
        {
          "output_type": "display_data",
          "data": {
            "text/plain": [
              "<Figure size 432x288 with 1 Axes>"
            ],
            "image/png": "[encoded data removed]"
          },
          "metadata": {
            "needs_background": "light"
          }
        },
        {
          "output_type": "display_data",
          "data": {
            "text/plain": [
              "<Figure size 432x288 with 1 Axes>"
            ],
            "image/png": "[encoded data removed]"
          },
          "metadata": {
            "needs_background": "light"
          }
        }
      ]
    },
    {
      "cell_type": "code",
      "source": [
        "# Evaluate test data on the model\n",
        "model_2.evaluate(X_test, y_test_one_hot)"
      ],
      "metadata": {
        "colab": {
          "base_uri": "https://localhost:8080/"
        },
        "id": "TlB8FOhlAGdv",
        "outputId": "f166f481-9c48-4c39-ab59-f1ea9e6f1e87"
      },
      "execution_count": null,
      "outputs": [
        {
          "output_type": "stream",
          "name": "stdout",
          "text": [
            "10/10 [==============================] - 0s 4ms/step - loss: 0.0750 - accuracy: 0.9732\n"
          ]
        },
        {
          "output_type": "execute_result",
          "data": {
            "text/plain": [
              "[0.07495981454849243, 0.9731543660163879]"
            ]
          },
          "metadata": {},
          "execution_count": 53
        }
      ]
    },
    {
      "cell_type": "code",
      "source": [
        "# Get model prediction probabilities\n",
        "model_2_pred_probs = model_2.predict(X_test)\n",
        "model_2_pred_probs[:5]"
      ],
      "metadata": {
        "colab": {
          "base_uri": "https://localhost:8080/"
        },
        "id": "tH8fRdUXAOfm",
        "outputId": "110ed1fc-57c9-46c7-95df-0c9d15ea4a7c"
      },
      "execution_count": null,
      "outputs": [
        {
          "output_type": "stream",
          "name": "stdout",
          "text": [
            "10/10 [==============================] - 0s 3ms/step\n"
          ]
        },
        {
          "output_type": "execute_result",
          "data": {
            "text/plain": [
              "array([[5.3021004e-03, 9.5159352e-01, 1.4727131e-02, 5.4713909e-04,\n",
              "        2.7830038e-02],\n",
              "       [6.6941686e-07, 3.3004622e-07, 9.9999905e-01, 2.2648270e-11,\n",
              "        1.2762660e-09],\n",
              "       [3.3803227e-07, 5.8008720e-07, 9.9999905e-01, 1.4510397e-09,\n",
              "        2.8730340e-09],\n",
              "       [7.7444484e-04, 3.7526927e-04, 1.5936644e-03, 2.7689402e-05,\n",
              "        9.9722892e-01],\n",
              "       [2.5430503e-03, 6.8013475e-04, 1.6656829e-03, 2.7351946e-01,\n",
              "        7.2159165e-01]], dtype=float32)"
            ]
          },
          "metadata": {},
          "execution_count": 54
        }
      ]
    },
    {
      "cell_type": "code",
      "source": [
        "# Turn model prediction probabilities into prediction labels\n",
        "model_2_preds = tf.argmax(model_2_pred_probs, axis=1)\n",
        "model_2_preds"
      ],
      "metadata": {
        "colab": {
          "base_uri": "https://localhost:8080/"
        },
        "id": "9k6dY9vbAURX",
        "outputId": "caf111ef-4114-4611-8a41-25554501d716"
      },
      "execution_count": null,
      "outputs": [
        {
          "output_type": "execute_result",
          "data": {
            "text/plain": [
              "<tf.Tensor: shape=(298,), dtype=int64, numpy=\n",
              "array([1, 2, 2, 4, 4, 0, 4, 1, 0, 4, 2, 1, 2, 3, 4, 4, 0, 3, 2, 0, 4, 1,\n",
              "       3, 0, 3, 4, 0, 3, 4, 0, 3, 0, 0, 2, 3, 4, 2, 0, 1, 0, 3, 0, 2, 0,\n",
              "       3, 0, 2, 4, 2, 0, 3, 3, 0, 3, 2, 1, 1, 2, 0, 1, 4, 0, 1, 4, 4, 4,\n",
              "       0, 4, 2, 2, 2, 3, 3, 3, 1, 1, 0, 2, 0, 0, 0, 3, 3, 3, 0, 1, 3, 0,\n",
              "       0, 4, 1, 2, 2, 4, 0, 2, 4, 4, 1, 2, 1, 2, 1, 3, 4, 3, 2, 3, 0, 4,\n",
              "       4, 0, 4, 1, 4, 0, 2, 2, 1, 0, 2, 3, 0, 2, 0, 0, 4, 4, 2, 1, 0, 3,\n",
              "       1, 3, 0, 2, 0, 1, 0, 1, 0, 1, 4, 3, 1, 2, 0, 4, 2, 2, 3, 0, 4, 3,\n",
              "       1, 4, 4, 3, 4, 3, 3, 2, 0, 0, 2, 2, 4, 3, 3, 4, 2, 4, 4, 1, 0, 4,\n",
              "       1, 3, 0, 0, 3, 3, 4, 1, 1, 0, 4, 2, 1, 2, 3, 3, 2, 4, 3, 3, 2, 3,\n",
              "       3, 0, 1, 2, 3, 1, 0, 3, 4, 4, 0, 0, 3, 2, 0, 1, 3, 2, 2, 3, 4, 2,\n",
              "       3, 4, 0, 0, 1, 4, 0, 2, 2, 2, 2, 3, 3, 0, 0, 4, 0, 3, 3, 2, 2, 1,\n",
              "       1, 1, 0, 0, 1, 1, 3, 0, 0, 2, 4, 3, 2, 4, 1, 3, 4, 0, 0, 2, 1, 4,\n",
              "       4, 3, 3, 0, 2, 1, 3, 3, 4, 3, 3, 2, 3, 3, 0, 2, 1, 0, 0, 2, 0, 0,\n",
              "       0, 4, 2, 1, 0, 0, 0, 0, 2, 1, 4, 1])>"
            ]
          },
          "metadata": {},
          "execution_count": 55
        }
      ]
    },
    {
      "cell_type": "code",
      "source": [
        "# Model results on different evaluation metrics\n",
        "model_2_results = calculate_results(y_true=y_test_labels_encoded,\n",
        "                                    y_pred=model_2_preds)\n",
        "model_2_results"
      ],
      "metadata": {
        "colab": {
          "base_uri": "https://localhost:8080/"
        },
        "id": "p_BNYiR9AamX",
        "outputId": "c8f8dce1-9331-4143-9dac-d85d3b4eae8e"
      },
      "execution_count": null,
      "outputs": [
        {
          "output_type": "execute_result",
          "data": {
            "text/plain": [
              "{'accuracy': 97.31543624161074,\n",
              " 'precision': 0.9738368786258673,\n",
              " 'recall': 0.9731543624161074,\n",
              " 'f1': 0.9732395784646134}"
            ]
          },
          "metadata": {},
          "execution_count": 56
        }
      ]
    },
    {
      "cell_type": "markdown",
      "source": [
        "### 4.3 LSTM"
      ],
      "metadata": {
        "id": "gFOt5giDA4-5"
      }
    },
    {
      "cell_type": "code",
      "source": [
        "try:\n",
        "  # model3 LSTM\n",
        "  model_3 = tf.keras.Sequential([\n",
        "      layers.Embedding(max_features,\n",
        "                      embedding_dims),\n",
        "      layers.LSTM(64,\n",
        "                  return_sequences=True),\n",
        "      layers.GlobalAveragePooling1D(),\n",
        "      layers.Dense(128, activation='relu'),\n",
        "      layers.Dense(len(class_names), activation='softmax')\n",
        "  ])\n",
        "except Exception as e:\n",
        "  print(f'Error raised!!: {e}') "
      ],
      "metadata": {
        "id": "gMDm4sKuA3nG"
      },
      "execution_count": null,
      "outputs": []
    },
    {
      "cell_type": "code",
      "source": [
        "try:\n",
        "  # compile\n",
        "  model_3.compile(loss='categorical_crossentropy',\n",
        "                  optimizer='adam',\n",
        "                  metrics=['accuracy'])\n",
        "except Exception as e:\n",
        "  print(f'Error raised!!: {e}') "
      ],
      "metadata": {
        "id": "hcTqdIdpB3Ce"
      },
      "execution_count": null,
      "outputs": []
    },
    {
      "cell_type": "code",
      "source": [
        "# Model summary\n",
        "model_3.summary()"
      ],
      "metadata": {
        "colab": {
          "base_uri": "https://localhost:8080/"
        },
        "id": "kOjkzT6kV-XJ",
        "outputId": "fa0583b5-558f-4f6b-9ddc-8573a35d86c0"
      },
      "execution_count": null,
      "outputs": [
        {
          "output_type": "stream",
          "name": "stdout",
          "text": [
            "Model: \"sequential_2\"\n",
            "_________________________________________________________________\n",
            " Layer (type)                Output Shape              Param #   \n",
            "=================================================================\n",
            " embedding_2 (Embedding)     (None, None, 128)         1280000   \n",
            "                                                                 \n",
            " lstm (LSTM)                 (None, None, 64)          49408     \n",
            "                                                                 \n",
            " global_average_pooling1d_1   (None, 64)               0         \n",
            " (GlobalAveragePooling1D)                                        \n",
            "                                                                 \n",
            " dense_6 (Dense)             (None, 128)               8320      \n",
            "                                                                 \n",
            " dense_7 (Dense)             (None, 5)                 645       \n",
            "                                                                 \n",
            "=================================================================\n",
            "Total params: 1,338,373\n",
            "Trainable params: 1,338,373\n",
            "Non-trainable params: 0\n",
            "_________________________________________________________________\n"
          ]
        }
      ]
    },
    {
      "cell_type": "code",
      "source": [
        "try:\n",
        "  tf.random.set_seed(42)\n",
        "  # Fit train and test sentences and labels to model\n",
        "  model_3_history = model_3.fit(X_train,\n",
        "                                y_train_one_hot,\n",
        "                                batch_size=batch_size,\n",
        "                                epochs=epochs,\n",
        "                                validation_data=(X_test,y_test_one_hot),\n",
        "                                callbacks=[tensorboard_callback(dir_name='Model_Tracking',\n",
        "                                                                experiment_name='LSTM_Model')])\n",
        "except Exception as e:\n",
        "  print(f'Error raised!!: {e}') "
      ],
      "metadata": {
        "colab": {
          "base_uri": "https://localhost:8080/"
        },
        "id": "_flWKVlKCUn-",
        "outputId": "6ef6bfa0-55ff-4d3f-bc47-a0ba79881000"
      },
      "execution_count": null,
      "outputs": [
        {
          "output_type": "stream",
          "name": "stdout",
          "text": [
            "Saving TensorBoard log files to : Model_Tracking/LSTM_Model/20221118-025734\n",
            "Epoch 1/10\n",
            "38/38 [==============================] - 5s 59ms/step - loss: 1.5664 - accuracy: 0.2701 - val_loss: 1.3543 - val_accuracy: 0.3557\n",
            "Epoch 2/10\n",
            "38/38 [==============================] - 1s 33ms/step - loss: 1.2544 - accuracy: 0.4245 - val_loss: 1.0646 - val_accuracy: 0.4765\n",
            "Epoch 3/10\n",
            "38/38 [==============================] - 1s 27ms/step - loss: 0.9644 - accuracy: 0.6183 - val_loss: 0.7626 - val_accuracy: 0.8188\n",
            "Epoch 4/10\n",
            "38/38 [==============================] - 1s 27ms/step - loss: 0.5601 - accuracy: 0.8465 - val_loss: 0.4171 - val_accuracy: 0.8658\n",
            "Epoch 5/10\n",
            "38/38 [==============================] - 1s 28ms/step - loss: 0.4355 - accuracy: 0.8716 - val_loss: 0.3175 - val_accuracy: 0.9161\n",
            "Epoch 6/10\n",
            "38/38 [==============================] - 1s 28ms/step - loss: 0.1924 - accuracy: 0.9555 - val_loss: 0.3008 - val_accuracy: 0.9295\n",
            "Epoch 7/10\n",
            "38/38 [==============================] - 1s 26ms/step - loss: 0.1304 - accuracy: 0.9673 - val_loss: 0.4266 - val_accuracy: 0.9228\n",
            "Epoch 8/10\n",
            "38/38 [==============================] - 1s 27ms/step - loss: 0.3387 - accuracy: 0.8901 - val_loss: 0.5337 - val_accuracy: 0.8121\n",
            "Epoch 9/10\n",
            "38/38 [==============================] - 1s 28ms/step - loss: 0.1501 - accuracy: 0.9631 - val_loss: 0.2991 - val_accuracy: 0.9195\n",
            "Epoch 10/10\n",
            "38/38 [==============================] - 1s 27ms/step - loss: 0.1409 - accuracy: 0.9648 - val_loss: 0.4000 - val_accuracy: 0.8926\n"
          ]
        }
      ]
    },
    {
      "cell_type": "code",
      "source": [
        "# Model performance using Graph\n",
        "plot_loss_curves(model_3_history)"
      ],
      "metadata": {
        "colab": {
          "base_uri": "https://localhost:8080/",
          "height": 573
        },
        "id": "OGbZH1U_DBiV",
        "outputId": "d530923d-b6b3-42f6-a80c-1f3561356d85"
      },
      "execution_count": null,
      "outputs": [
        {
          "output_type": "display_data",
          "data": {
            "text/plain": [
              "<Figure size 432x288 with 1 Axes>"
            ],
            "image/png": "[encoded data removed]"
          },
          "metadata": {
            "needs_background": "light"
          }
        },
        {
          "output_type": "display_data",
          "data": {
            "text/plain": [
              "<Figure size 432x288 with 1 Axes>"
            ],
            "image/png": "[encoded data removed]"
          },
          "metadata": {
            "needs_background": "light"
          }
        }
      ]
    },
    {
      "cell_type": "code",
      "source": [
        "# Evaluate on test data\n",
        "model_3.evaluate(X_test, y_test_one_hot)"
      ],
      "metadata": {
        "colab": {
          "base_uri": "https://localhost:8080/"
        },
        "id": "rG-d00aMDEe9",
        "outputId": "e4c197a5-8734-4453-9182-984de408e407"
      },
      "execution_count": null,
      "outputs": [
        {
          "output_type": "stream",
          "name": "stdout",
          "text": [
            "10/10 [==============================] - 0s 13ms/step - loss: 0.4000 - accuracy: 0.8926\n"
          ]
        },
        {
          "output_type": "execute_result",
          "data": {
            "text/plain": [
              "[0.39995044469833374, 0.8926174640655518]"
            ]
          },
          "metadata": {},
          "execution_count": 62
        }
      ]
    },
    {
      "cell_type": "code",
      "source": [
        "# Model prediction probabilities\n",
        "model_3_pred_probs = model_3.predict(X_test)\n",
        "model_3_pred_probs[:2]"
      ],
      "metadata": {
        "colab": {
          "base_uri": "https://localhost:8080/"
        },
        "id": "_Y6JzycyDJsl",
        "outputId": "4be4948f-6613-41e0-a038-25cf1b2774df"
      },
      "execution_count": null,
      "outputs": [
        {
          "output_type": "stream",
          "name": "stdout",
          "text": [
            "10/10 [==============================] - 0s 11ms/step\n"
          ]
        },
        {
          "output_type": "execute_result",
          "data": {
            "text/plain": [
              "array([[2.6325658e-03, 7.6814288e-01, 2.1728265e-01, 9.5784683e-03,\n",
              "        2.3635172e-03],\n",
              "       [7.1102672e-06, 9.1401534e-04, 9.9553043e-01, 2.8424241e-08,\n",
              "        3.5484610e-03]], dtype=float32)"
            ]
          },
          "metadata": {},
          "execution_count": 63
        }
      ]
    },
    {
      "cell_type": "code",
      "source": [
        "# Model prediction labels\n",
        "model_3_preds = tf.argmax(model_3_pred_probs, axis=1)\n",
        "model_3_preds"
      ],
      "metadata": {
        "colab": {
          "base_uri": "https://localhost:8080/"
        },
        "id": "evcYPak_DbgM",
        "outputId": "ca4d7729-ac2a-4899-a0b8-23ca36176e19"
      },
      "execution_count": null,
      "outputs": [
        {
          "output_type": "execute_result",
          "data": {
            "text/plain": [
              "<tf.Tensor: shape=(298,), dtype=int64, numpy=\n",
              "array([1, 2, 2, 4, 2, 0, 4, 1, 0, 4, 2, 1, 0, 3, 4, 4, 0, 1, 1, 0, 4, 1,\n",
              "       3, 0, 3, 4, 0, 3, 2, 0, 3, 0, 0, 2, 3, 4, 1, 0, 1, 4, 3, 2, 2, 0,\n",
              "       3, 4, 2, 4, 2, 3, 3, 3, 0, 3, 2, 1, 1, 2, 0, 1, 4, 0, 1, 4, 4, 2,\n",
              "       0, 4, 2, 2, 2, 3, 3, 3, 1, 1, 0, 2, 0, 0, 0, 3, 3, 3, 0, 1, 3, 0,\n",
              "       0, 4, 1, 1, 1, 4, 0, 2, 4, 4, 1, 2, 1, 2, 1, 3, 4, 3, 2, 3, 0, 4,\n",
              "       4, 0, 4, 1, 4, 2, 2, 0, 1, 0, 2, 3, 0, 2, 0, 0, 4, 4, 4, 1, 0, 3,\n",
              "       1, 3, 0, 4, 1, 1, 0, 1, 0, 1, 4, 3, 1, 2, 2, 4, 2, 2, 3, 0, 2, 3,\n",
              "       1, 4, 4, 3, 4, 3, 3, 2, 0, 2, 2, 2, 4, 3, 3, 4, 2, 4, 4, 1, 0, 2,\n",
              "       1, 3, 0, 4, 3, 3, 4, 1, 2, 0, 4, 4, 1, 2, 3, 3, 1, 4, 3, 3, 2, 3,\n",
              "       3, 0, 1, 2, 3, 1, 4, 3, 4, 4, 0, 0, 3, 1, 0, 1, 3, 2, 2, 3, 4, 2,\n",
              "       3, 4, 0, 0, 1, 2, 0, 2, 2, 2, 2, 3, 3, 0, 0, 4, 0, 3, 3, 2, 2, 1,\n",
              "       1, 1, 0, 2, 1, 1, 3, 2, 2, 1, 4, 3, 2, 4, 1, 3, 4, 0, 2, 2, 4, 4,\n",
              "       4, 3, 3, 0, 2, 1, 3, 3, 4, 3, 3, 2, 3, 3, 2, 2, 1, 0, 0, 2, 0, 0,\n",
              "       0, 4, 2, 1, 0, 0, 0, 0, 1, 1, 4, 1])>"
            ]
          },
          "metadata": {},
          "execution_count": 64
        }
      ]
    },
    {
      "cell_type": "code",
      "source": [
        "# Model performance using different evaluation metrics\n",
        "model_3_results = calculate_results(y_true=y_test_labels_encoded,\n",
        "                                    y_pred=model_3_preds)\n",
        "model_3_results"
      ],
      "metadata": {
        "colab": {
          "base_uri": "https://localhost:8080/"
        },
        "id": "A4bg6gWtDjI1",
        "outputId": "7ddd5b13-5ada-4b95-fd9c-b35eb483998b"
      },
      "execution_count": null,
      "outputs": [
        {
          "output_type": "execute_result",
          "data": {
            "text/plain": [
              "{'accuracy': 89.26174496644296,\n",
              " 'precision': 0.9021068161973577,\n",
              " 'recall': 0.8926174496644296,\n",
              " 'f1': 0.8940163068161983}"
            ]
          },
          "metadata": {},
          "execution_count": 65
        }
      ]
    },
    {
      "cell_type": "markdown",
      "source": [
        "### 4.4 GRU Model"
      ],
      "metadata": {
        "id": "Iw6aOkh2HQLE"
      }
    },
    {
      "cell_type": "code",
      "source": [
        "try:\n",
        "  # Model 4 GRU\n",
        "  model_4 = tf.keras.Sequential([\n",
        "      layers.Embedding(max_features,\n",
        "                      embedding_dims),\n",
        "      layers.GRU(64, return_sequences=True),\n",
        "      layers.GRU(64, return_sequences=True),\n",
        "      layers.Dense(128, activation='relu'),\n",
        "      layers.Dense(128, activation='relu'),\n",
        "      layers.GlobalAveragePooling1D(),\n",
        "      layers.Dense(len(class_names), activation='softmax')\n",
        "  ])\n",
        "except Exception as e:\n",
        "  print(f'Error raised!!: {e}') "
      ],
      "metadata": {
        "id": "3UcbsKWZDrRc"
      },
      "execution_count": null,
      "outputs": []
    },
    {
      "cell_type": "code",
      "source": [
        "# Compile\n",
        "try:\n",
        "  model_4.compile(loss='categorical_crossentropy',\n",
        "                  optimizer='adam',\n",
        "                  metrics=['accuracy'])\n",
        "except Exception as e:\n",
        "  print(f'Error raised!!: {e}') "
      ],
      "metadata": {
        "id": "Z565BFnkH_Tu"
      },
      "execution_count": null,
      "outputs": []
    },
    {
      "cell_type": "code",
      "source": [
        "# Model summary\n",
        "model_4.summary()"
      ],
      "metadata": {
        "colab": {
          "base_uri": "https://localhost:8080/"
        },
        "id": "qDlRMp56WOGg",
        "outputId": "765781b0-3df7-46d6-8d61-281fa77b2dd5"
      },
      "execution_count": null,
      "outputs": [
        {
          "output_type": "stream",
          "name": "stdout",
          "text": [
            "Model: \"sequential_3\"\n",
            "_________________________________________________________________\n",
            " Layer (type)                Output Shape              Param #   \n",
            "=================================================================\n",
            " embedding_3 (Embedding)     (None, None, 128)         1280000   \n",
            "                                                                 \n",
            " gru (GRU)                   (None, None, 64)          37248     \n",
            "                                                                 \n",
            " gru_1 (GRU)                 (None, None, 64)          24960     \n",
            "                                                                 \n",
            " dense_8 (Dense)             (None, None, 128)         8320      \n",
            "                                                                 \n",
            " dense_9 (Dense)             (None, None, 128)         16512     \n",
            "                                                                 \n",
            " global_average_pooling1d_2   (None, 128)              0         \n",
            " (GlobalAveragePooling1D)                                        \n",
            "                                                                 \n",
            " dense_10 (Dense)            (None, 5)                 645       \n",
            "                                                                 \n",
            "=================================================================\n",
            "Total params: 1,367,685\n",
            "Trainable params: 1,367,685\n",
            "Non-trainable params: 0\n",
            "_________________________________________________________________\n"
          ]
        }
      ]
    },
    {
      "cell_type": "code",
      "source": [
        "try:\n",
        "  tf.random.set_seed(42)\n",
        "  # Fit train and test sentences and labels\n",
        "  model_4_history = model_4.fit(X_train,\n",
        "                                y_train_one_hot,\n",
        "                                batch_size=batch_size,\n",
        "                                epochs=epochs,\n",
        "                                validation_data=(X_test,y_test_one_hot),\n",
        "                                callbacks=[tensorboard_callback(dir_name='Model_Tracking',\n",
        "                                                                experiment_name='GRU_Model')])\n",
        "except Exception as e:\n",
        "  print(f'Error raised!!: {e}') "
      ],
      "metadata": {
        "colab": {
          "base_uri": "https://localhost:8080/"
        },
        "id": "H-MiUaGoILWc",
        "outputId": "4c1b45a1-25c7-482f-eb27-ffa196d369ae"
      },
      "execution_count": null,
      "outputs": [
        {
          "output_type": "stream",
          "name": "stdout",
          "text": [
            "Saving TensorBoard log files to : Model_Tracking/GRU_Model/20221118-025750\n",
            "Epoch 1/10\n",
            "38/38 [==============================] - 6s 71ms/step - loss: 1.5541 - accuracy: 0.2601 - val_loss: 1.3038 - val_accuracy: 0.3826\n",
            "Epoch 2/10\n",
            "38/38 [==============================] - 2s 49ms/step - loss: 1.0793 - accuracy: 0.4698 - val_loss: 0.9654 - val_accuracy: 0.5537\n",
            "Epoch 3/10\n",
            "38/38 [==============================] - 2s 46ms/step - loss: 0.7952 - accuracy: 0.6191 - val_loss: 0.8732 - val_accuracy: 0.5906\n",
            "Epoch 4/10\n",
            "38/38 [==============================] - 2s 49ms/step - loss: 0.5603 - accuracy: 0.7827 - val_loss: 0.8399 - val_accuracy: 0.7081\n",
            "Epoch 5/10\n",
            "38/38 [==============================] - 2s 49ms/step - loss: 0.3207 - accuracy: 0.8977 - val_loss: 0.9504 - val_accuracy: 0.6980\n",
            "Epoch 6/10\n",
            "38/38 [==============================] - 2s 45ms/step - loss: 0.1718 - accuracy: 0.9522 - val_loss: 0.8339 - val_accuracy: 0.7450\n",
            "Epoch 7/10\n",
            "38/38 [==============================] - 2s 46ms/step - loss: 0.0851 - accuracy: 0.9832 - val_loss: 0.9850 - val_accuracy: 0.7349\n",
            "Epoch 8/10\n",
            "38/38 [==============================] - 2s 45ms/step - loss: 0.0459 - accuracy: 0.9916 - val_loss: 1.0372 - val_accuracy: 0.7685\n",
            "Epoch 9/10\n",
            "38/38 [==============================] - 2s 45ms/step - loss: 0.0213 - accuracy: 0.9983 - val_loss: 1.1042 - val_accuracy: 0.7584\n",
            "Epoch 10/10\n",
            "38/38 [==============================] - 2s 49ms/step - loss: 0.0080 - accuracy: 1.0000 - val_loss: 1.1743 - val_accuracy: 0.7584\n"
          ]
        }
      ]
    },
    {
      "cell_type": "code",
      "source": [
        "# Model performance using graph\n",
        "plot_loss_curves(model_4_history)"
      ],
      "metadata": {
        "colab": {
          "base_uri": "https://localhost:8080/",
          "height": 573
        },
        "id": "jipR310AIe8U",
        "outputId": "56269a3a-5367-435b-b2b2-777763474c99"
      },
      "execution_count": null,
      "outputs": [
        {
          "output_type": "display_data",
          "data": {
            "text/plain": [
              "<Figure size 432x288 with 1 Axes>"
            ],
            "image/png": "[encoded data removed]"
          },
          "metadata": {
            "needs_background": "light"
          }
        },
        {
          "output_type": "display_data",
          "data": {
            "text/plain": [
              "<Figure size 432x288 with 1 Axes>"
            ],
            "image/png": "[encoded data removed]"
          },
          "metadata": {
            "needs_background": "light"
          }
        }
      ]
    },
    {
      "cell_type": "code",
      "source": [
        "#Evaluate model on test data\n",
        "model_4.evaluate(X_test, y_test_one_hot)"
      ],
      "metadata": {
        "colab": {
          "base_uri": "https://localhost:8080/"
        },
        "id": "zbf3WrDgIwDU",
        "outputId": "02ef7657-1457-45f7-ee1c-074afee96a78"
      },
      "execution_count": null,
      "outputs": [
        {
          "output_type": "stream",
          "name": "stdout",
          "text": [
            "10/10 [==============================] - 0s 21ms/step - loss: 1.1743 - accuracy: 0.7584\n"
          ]
        },
        {
          "output_type": "execute_result",
          "data": {
            "text/plain": [
              "[1.1742557287216187, 0.7583892345428467]"
            ]
          },
          "metadata": {},
          "execution_count": 71
        }
      ]
    },
    {
      "cell_type": "code",
      "source": [
        "# model prediction probabilities\n",
        "model_4_pred_probs = model_4.predict(X_test)\n",
        "model_4_pred_probs[:5]"
      ],
      "metadata": {
        "colab": {
          "base_uri": "https://localhost:8080/"
        },
        "id": "dDJpWQ6dIzMa",
        "outputId": "10df6eb7-40d9-451a-f28f-5ace392cad1e"
      },
      "execution_count": null,
      "outputs": [
        {
          "output_type": "stream",
          "name": "stdout",
          "text": [
            "10/10 [==============================] - 1s 19ms/step\n"
          ]
        },
        {
          "output_type": "execute_result",
          "data": {
            "text/plain": [
              "array([[9.9734938e-01, 6.5317599e-04, 1.9972415e-03, 8.6374530e-19,\n",
              "        7.6533944e-08],\n",
              "       [9.5361274e-06, 3.6314237e-23, 9.9979192e-01, 0.0000000e+00,\n",
              "        1.9853561e-04],\n",
              "       [8.9503388e-04, 9.3521447e-20, 9.9908972e-01, 0.0000000e+00,\n",
              "        1.5200736e-05],\n",
              "       [3.4471719e-27, 0.0000000e+00, 3.2569190e-09, 0.0000000e+00,\n",
              "        1.0000000e+00],\n",
              "       [9.7689510e-05, 1.0293297e-16, 9.9236989e-01, 0.0000000e+00,\n",
              "        7.5323707e-03]], dtype=float32)"
            ]
          },
          "metadata": {},
          "execution_count": 72
        }
      ]
    },
    {
      "cell_type": "code",
      "source": [
        "# model prediction labels\n",
        "model_4_preds = tf.argmax(model_4_pred_probs, axis=1)\n",
        "model_4_preds"
      ],
      "metadata": {
        "colab": {
          "base_uri": "https://localhost:8080/"
        },
        "id": "B0s8Iq_BI36E",
        "outputId": "151bf919-195b-4919-893b-b7efd654c0e0"
      },
      "execution_count": null,
      "outputs": [
        {
          "output_type": "execute_result",
          "data": {
            "text/plain": [
              "<tf.Tensor: shape=(298,), dtype=int64, numpy=\n",
              "array([0, 2, 2, 4, 2, 0, 4, 1, 0, 4, 2, 1, 0, 3, 4, 4, 0, 1, 0, 0, 4, 0,\n",
              "       3, 0, 3, 4, 0, 3, 4, 0, 3, 0, 0, 2, 3, 2, 0, 1, 1, 4, 3, 2, 2, 0,\n",
              "       3, 2, 2, 4, 2, 1, 3, 3, 1, 3, 2, 1, 3, 2, 0, 3, 4, 0, 0, 4, 4, 4,\n",
              "       1, 4, 2, 2, 2, 3, 3, 3, 1, 1, 0, 2, 0, 0, 1, 3, 3, 3, 0, 3, 3, 0,\n",
              "       0, 4, 1, 0, 2, 4, 0, 0, 4, 4, 1, 2, 0, 0, 0, 3, 4, 1, 0, 3, 0, 4,\n",
              "       4, 1, 4, 1, 4, 0, 0, 2, 0, 1, 2, 3, 1, 2, 0, 0, 4, 4, 2, 1, 0, 3,\n",
              "       0, 3, 2, 2, 1, 3, 0, 1, 0, 1, 4, 3, 1, 2, 2, 4, 2, 0, 3, 0, 2, 3,\n",
              "       1, 4, 4, 3, 4, 3, 3, 0, 0, 2, 2, 2, 4, 3, 3, 2, 2, 4, 2, 1, 0, 2,\n",
              "       1, 3, 1, 0, 3, 3, 4, 1, 0, 0, 4, 4, 1, 2, 3, 3, 0, 4, 1, 3, 0, 3,\n",
              "       3, 0, 1, 2, 3, 1, 2, 3, 4, 4, 0, 2, 3, 2, 0, 1, 3, 0, 2, 3, 4, 2,\n",
              "       3, 4, 0, 1, 1, 0, 0, 2, 2, 2, 2, 3, 3, 0, 0, 4, 0, 3, 3, 2, 2, 1,\n",
              "       0, 1, 0, 2, 1, 3, 3, 0, 1, 0, 4, 1, 2, 4, 3, 3, 4, 2, 0, 2, 2, 4,\n",
              "       4, 3, 3, 1, 0, 1, 3, 3, 4, 3, 3, 0, 3, 3, 0, 0, 1, 0, 0, 2, 0, 1,\n",
              "       0, 4, 2, 0, 2, 0, 1, 0, 0, 1, 4, 1])>"
            ]
          },
          "metadata": {},
          "execution_count": 73
        }
      ]
    },
    {
      "cell_type": "code",
      "source": [
        "# model performance using different evaluation metrics\n",
        "model_4_results = calculate_results(y_true=y_test_labels_encoded,\n",
        "                                    y_pred=model_4_preds)"
      ],
      "metadata": {
        "id": "mcoJaTtwI-Pi"
      },
      "execution_count": null,
      "outputs": []
    },
    {
      "cell_type": "code",
      "source": [
        "model_4_results"
      ],
      "metadata": {
        "colab": {
          "base_uri": "https://localhost:8080/"
        },
        "id": "Q5EHgJS-JaUs",
        "outputId": "9c6201a8-0763-4351-b6b4-371c4bc78715"
      },
      "execution_count": null,
      "outputs": [
        {
          "output_type": "execute_result",
          "data": {
            "text/plain": [
              "{'accuracy': 75.83892617449665,\n",
              " 'precision': 0.7658019953083536,\n",
              " 'recall': 0.7583892617449665,\n",
              " 'f1': 0.7609570753449942}"
            ]
          },
          "metadata": {},
          "execution_count": 75
        }
      ]
    },
    {
      "cell_type": "markdown",
      "source": [
        "### 4.5 Bidirectional LSTM"
      ],
      "metadata": {
        "id": "G2qEj6sMJkyU"
      }
    },
    {
      "cell_type": "code",
      "source": [
        "try:\n",
        "  # Model 5 Bidirectional LSTM\n",
        "  model_5  = tf.keras.Sequential([\n",
        "      layers.Embedding(max_features,\n",
        "                      embedding_dims),\n",
        "      layers.Bidirectional(layers.LSTM(128, return_sequences=True)),\n",
        "      layers.Bidirectional(layers.LSTM(128, return_sequences=True)),\n",
        "      layers.Dense(256, activation='relu'),\n",
        "      layers.Dense(256, activation='relu'),\n",
        "      layers.GlobalAveragePooling1D(),\n",
        "      layers.Dense(len(class_names), activation='softmax')\n",
        "  ])\n",
        "except Exception as e:\n",
        "  print(f'Error raised!!: {e}') "
      ],
      "metadata": {
        "id": "j3ShXLeqJcGS"
      },
      "execution_count": null,
      "outputs": []
    },
    {
      "cell_type": "code",
      "source": [
        "try:\n",
        "  # Model compile\n",
        "  model_5.compile(loss='categorical_crossentropy',\n",
        "                  optimizer='adam',\n",
        "                  metrics=['accuracy'])\n",
        "except Exception as e:\n",
        "  print(f'Error raised!!: {e}') "
      ],
      "metadata": {
        "id": "xFeUwYEQKGPj"
      },
      "execution_count": null,
      "outputs": []
    },
    {
      "cell_type": "code",
      "source": [
        "# Model summary\n",
        "model_5.summary()"
      ],
      "metadata": {
        "colab": {
          "base_uri": "https://localhost:8080/"
        },
        "id": "ABBLscc0KJXa",
        "outputId": "27d41c80-807f-427d-c404-0b7c84a4e89e"
      },
      "execution_count": null,
      "outputs": [
        {
          "output_type": "stream",
          "name": "stdout",
          "text": [
            "Model: \"sequential_4\"\n",
            "_________________________________________________________________\n",
            " Layer (type)                Output Shape              Param #   \n",
            "=================================================================\n",
            " embedding_4 (Embedding)     (None, None, 128)         1280000   \n",
            "                                                                 \n",
            " bidirectional (Bidirectiona  (None, None, 256)        263168    \n",
            " l)                                                              \n",
            "                                                                 \n",
            " bidirectional_1 (Bidirectio  (None, None, 256)        394240    \n",
            " nal)                                                            \n",
            "                                                                 \n",
            " dense_11 (Dense)            (None, None, 256)         65792     \n",
            "                                                                 \n",
            " dense_12 (Dense)            (None, None, 256)         65792     \n",
            "                                                                 \n",
            " global_average_pooling1d_3   (None, 256)              0         \n",
            " (GlobalAveragePooling1D)                                        \n",
            "                                                                 \n",
            " dense_13 (Dense)            (None, 5)                 1285      \n",
            "                                                                 \n",
            "=================================================================\n",
            "Total params: 2,070,277\n",
            "Trainable params: 2,070,277\n",
            "Non-trainable params: 0\n",
            "_________________________________________________________________\n"
          ]
        }
      ]
    },
    {
      "cell_type": "code",
      "source": [
        "try:\n",
        "  # Fit train and test sentences and labels to model\n",
        "  model_5_history = model_5.fit(X_train,\n",
        "                                y_train_one_hot,\n",
        "                                batch_size=batch_size,\n",
        "                                epochs=epochs,\n",
        "                                validation_data=(X_test,y_test_one_hot),\n",
        "                                callbacks=[tensorboard_callback(dir_name='Model_Tracking',\n",
        "                                                                experiment_name='Bidirectional_Model')])\n",
        "except Exception as e:\n",
        "  print(f'Error raised!!: {e}') "
      ],
      "metadata": {
        "colab": {
          "base_uri": "https://localhost:8080/"
        },
        "id": "5hxkDs2ZKLAh",
        "outputId": "5f6a5a88-8947-48ca-8290-e3256fdf0d97"
      },
      "execution_count": null,
      "outputs": [
        {
          "output_type": "stream",
          "name": "stdout",
          "text": [
            "Saving TensorBoard log files to : Model_Tracking/Bidirectional_Model/20221118-025815\n",
            "Epoch 1/10\n",
            "38/38 [==============================] - 13s 192ms/step - loss: 1.4336 - accuracy: 0.3247 - val_loss: 1.1800 - val_accuracy: 0.5470\n",
            "Epoch 2/10\n",
            "38/38 [==============================] - 6s 148ms/step - loss: 1.0181 - accuracy: 0.5554 - val_loss: 0.8868 - val_accuracy: 0.6074\n",
            "Epoch 3/10\n",
            "38/38 [==============================] - 5s 127ms/step - loss: 0.6418 - accuracy: 0.7156 - val_loss: 0.7660 - val_accuracy: 0.6913\n",
            "Epoch 4/10\n",
            "38/38 [==============================] - 5s 127ms/step - loss: 0.3670 - accuracy: 0.8666 - val_loss: 0.7977 - val_accuracy: 0.7315\n",
            "Epoch 5/10\n",
            "38/38 [==============================] - 5s 131ms/step - loss: 0.2967 - accuracy: 0.9086 - val_loss: 0.8319 - val_accuracy: 0.7081\n",
            "Epoch 6/10\n",
            "38/38 [==============================] - 5s 128ms/step - loss: 0.2086 - accuracy: 0.9346 - val_loss: 0.8770 - val_accuracy: 0.7181\n",
            "Epoch 7/10\n",
            "38/38 [==============================] - 5s 126ms/step - loss: 0.0924 - accuracy: 0.9732 - val_loss: 1.0566 - val_accuracy: 0.7315\n",
            "Epoch 8/10\n",
            "38/38 [==============================] - 5s 128ms/step - loss: 0.0413 - accuracy: 0.9941 - val_loss: 1.0970 - val_accuracy: 0.7550\n",
            "Epoch 9/10\n",
            "38/38 [==============================] - 5s 129ms/step - loss: 0.0181 - accuracy: 0.9975 - val_loss: 1.1791 - val_accuracy: 0.7550\n",
            "Epoch 10/10\n",
            "38/38 [==============================] - 5s 128ms/step - loss: 0.0070 - accuracy: 0.9992 - val_loss: 1.2858 - val_accuracy: 0.7617\n"
          ]
        }
      ]
    },
    {
      "cell_type": "code",
      "source": [
        "# Model performance using graph\n",
        "plot_loss_curves(model_5_history)"
      ],
      "metadata": {
        "colab": {
          "base_uri": "https://localhost:8080/",
          "height": 573
        },
        "id": "OLv4oOQeKrss",
        "outputId": "eab1d1da-162f-421d-b145-932ba2bbc8c7"
      },
      "execution_count": null,
      "outputs": [
        {
          "output_type": "display_data",
          "data": {
            "text/plain": [
              "<Figure size 432x288 with 1 Axes>"
            ],
            "image/png": "[encoded data removed]"
          },
          "metadata": {
            "needs_background": "light"
          }
        },
        {
          "output_type": "display_data",
          "data": {
            "text/plain": [
              "<Figure size 432x288 with 1 Axes>"
            ],
            "image/png": "[encoded data removed]"
          },
          "metadata": {
            "needs_background": "light"
          }
        }
      ]
    },
    {
      "cell_type": "code",
      "source": [
        "# Evaluate test data \n",
        "model_5.evaluate(X_test, y_test_one_hot)"
      ],
      "metadata": {
        "colab": {
          "base_uri": "https://localhost:8080/"
        },
        "id": "-ev8p-DhKt7r",
        "outputId": "6fdd1698-d851-4580-8bfb-269cf45c4b46"
      },
      "execution_count": null,
      "outputs": [
        {
          "output_type": "stream",
          "name": "stdout",
          "text": [
            "10/10 [==============================] - 0s 47ms/step - loss: 1.2858 - accuracy: 0.7617\n"
          ]
        },
        {
          "output_type": "execute_result",
          "data": {
            "text/plain": [
              "[1.2857506275177002, 0.7617449760437012]"
            ]
          },
          "metadata": {},
          "execution_count": 81
        }
      ]
    },
    {
      "cell_type": "code",
      "source": [
        "# Model prediction probabilities\n",
        "model_5_pred_probs = model_5.predict(X_test)\n",
        "model_5_pred_probs[:5]"
      ],
      "metadata": {
        "colab": {
          "base_uri": "https://localhost:8080/"
        },
        "id": "qfD8MGODLC17",
        "outputId": "4d27bd82-b0fd-4ae8-9cd2-2d922dad60e3"
      },
      "execution_count": null,
      "outputs": [
        {
          "output_type": "stream",
          "name": "stdout",
          "text": [
            "10/10 [==============================] - 2s 46ms/step\n"
          ]
        },
        {
          "output_type": "execute_result",
          "data": {
            "text/plain": [
              "array([[9.5407301e-01, 4.4631783e-02, 1.2951950e-03, 2.7253805e-12,\n",
              "        4.7572861e-09],\n",
              "       [4.5642358e-07, 9.4499990e-27, 9.9999559e-01, 0.0000000e+00,\n",
              "        3.8943981e-06],\n",
              "       [2.7827657e-04, 1.1388220e-21, 9.9972171e-01, 0.0000000e+00,\n",
              "        4.5354430e-08],\n",
              "       [3.0788410e-28, 0.0000000e+00, 1.5104823e-06, 0.0000000e+00,\n",
              "        9.9999845e-01],\n",
              "       [2.8783732e-05, 4.7159216e-16, 9.9443048e-01, 2.4662586e-37,\n",
              "        5.5406909e-03]], dtype=float32)"
            ]
          },
          "metadata": {},
          "execution_count": 82
        }
      ]
    },
    {
      "cell_type": "code",
      "source": [
        "# Model prediction labels\n",
        "model_5_preds = tf.argmax(model_5_pred_probs, axis=1)\n",
        "model_5_preds"
      ],
      "metadata": {
        "colab": {
          "base_uri": "https://localhost:8080/"
        },
        "id": "etBD8oraLHSJ",
        "outputId": "4e9a0434-1195-43fc-8e5f-6cf533b85d37"
      },
      "execution_count": null,
      "outputs": [
        {
          "output_type": "execute_result",
          "data": {
            "text/plain": [
              "<tf.Tensor: shape=(298,), dtype=int64, numpy=\n",
              "array([0, 2, 2, 4, 2, 0, 4, 1, 0, 4, 2, 0, 0, 3, 4, 4, 0, 1, 0, 0, 4, 1,\n",
              "       3, 0, 3, 4, 0, 3, 4, 0, 3, 0, 0, 2, 3, 0, 0, 1, 1, 2, 3, 2, 2, 0,\n",
              "       3, 2, 2, 2, 0, 1, 3, 3, 1, 3, 2, 1, 3, 2, 0, 1, 4, 0, 0, 4, 4, 4,\n",
              "       1, 4, 2, 0, 2, 3, 3, 3, 1, 1, 0, 2, 0, 0, 0, 3, 3, 3, 0, 3, 3, 0,\n",
              "       0, 4, 1, 0, 0, 4, 0, 0, 4, 4, 1, 2, 1, 2, 1, 3, 4, 3, 0, 3, 0, 4,\n",
              "       2, 1, 4, 1, 4, 0, 2, 2, 0, 1, 2, 3, 0, 2, 0, 0, 4, 2, 2, 1, 0, 3,\n",
              "       0, 3, 2, 2, 0, 3, 0, 1, 0, 1, 4, 3, 0, 2, 2, 4, 2, 0, 3, 0, 2, 3,\n",
              "       1, 4, 2, 3, 4, 3, 3, 2, 0, 2, 2, 0, 4, 3, 3, 2, 2, 4, 2, 1, 0, 2,\n",
              "       1, 3, 1, 0, 3, 3, 4, 1, 0, 0, 4, 2, 1, 2, 3, 3, 0, 4, 3, 3, 2, 3,\n",
              "       3, 0, 1, 2, 3, 1, 2, 3, 4, 2, 0, 2, 3, 2, 0, 3, 3, 0, 2, 3, 4, 2,\n",
              "       3, 4, 0, 1, 1, 0, 0, 0, 4, 2, 2, 3, 3, 0, 0, 4, 0, 3, 3, 2, 2, 0,\n",
              "       1, 3, 0, 0, 1, 3, 3, 0, 1, 0, 4, 1, 2, 4, 3, 3, 2, 0, 0, 2, 2, 4,\n",
              "       4, 3, 3, 0, 2, 1, 3, 3, 4, 3, 3, 0, 3, 3, 0, 0, 1, 0, 0, 2, 1, 0,\n",
              "       0, 4, 2, 1, 2, 0, 0, 0, 2, 1, 4, 1])>"
            ]
          },
          "metadata": {},
          "execution_count": 83
        }
      ]
    },
    {
      "cell_type": "code",
      "source": [
        "# Model evaluation\n",
        "model_5_results = calculate_results(y_true=y_test_labels_encoded,\n",
        "                                    y_pred=model_5_preds)"
      ],
      "metadata": {
        "id": "AX2jjc2kLP8D"
      },
      "execution_count": null,
      "outputs": []
    },
    {
      "cell_type": "code",
      "source": [
        "model_5_results"
      ],
      "metadata": {
        "colab": {
          "base_uri": "https://localhost:8080/"
        },
        "id": "bl7A9vJpLYTq",
        "outputId": "004d4855-0a30-4a7b-d05d-628971feb787"
      },
      "execution_count": null,
      "outputs": [
        {
          "output_type": "execute_result",
          "data": {
            "text/plain": [
              "{'accuracy': 76.1744966442953,\n",
              " 'precision': 0.7749932946775469,\n",
              " 'recall': 0.761744966442953,\n",
              " 'f1': 0.7634408369912693}"
            ]
          },
          "metadata": {},
          "execution_count": 85
        }
      ]
    },
    {
      "cell_type": "markdown",
      "source": [
        "## 5.Comparing All Model Results"
      ],
      "metadata": {
        "id": "HC_U4RtpLdrj"
      }
    },
    {
      "cell_type": "code",
      "source": [
        "# Dataframe contain all model results\n",
        "all_model_results = pd.DataFrame({\"Baseline\": baseline_results,\n",
        "                                  \"Simple_dense\": model_1_results,\n",
        "                                  \"Conv1D\": model_2_results,\n",
        "                                  \"LSTM\": model_3_results,\n",
        "                                  \"GRU\": model_4_results,\n",
        "                                  \"Bidirectional\": model_5_results\n",
        "                                  })\n"
      ],
      "metadata": {
        "id": "my95wJXeLaHZ"
      },
      "execution_count": null,
      "outputs": []
    },
    {
      "cell_type": "code",
      "source": [
        "# Check model results\n",
        "all_model_results = all_model_results.transpose()\n",
        "all_model_results"
      ],
      "metadata": {
        "colab": {
          "base_uri": "https://localhost:8080/",
          "height": 238
        },
        "id": "cvwK1BgqOpBH",
        "outputId": "577199bb-6100-4bdb-8df9-797a3cf7225d"
      },
      "execution_count": null,
      "outputs": [
        {
          "output_type": "execute_result",
          "data": {
            "text/plain": [
              "                accuracy  precision    recall        f1\n",
              "Baseline       95.637584   0.957846  0.956376  0.956246\n",
              "Simple_dense   90.268456   0.907635  0.902685  0.903972\n",
              "Conv1D         97.315436   0.973837  0.973154  0.973240\n",
              "LSTM           89.261745   0.902107  0.892617  0.894016\n",
              "GRU            75.838926   0.765802  0.758389  0.760957\n",
              "Bidirectional  76.174497   0.774993  0.761745  0.763441"
            ],
            "text/html": [
              "\n",
              "  <div id=\"df-596ccca2-4ef0-48d1-b98f-e98136213248\">\n",
              "    <div class=\"colab-df-container\">\n",
              "      <div>\n",
              "<style scoped>\n",
              "    .dataframe tbody tr th:only-of-type {\n",
              "        vertical-align: middle;\n",
              "    }\n",
              "\n",
              "    .dataframe tbody tr th {\n",
              "        vertical-align: top;\n",
              "    }\n",
              "\n",
              "    .dataframe thead th {\n",
              "        text-align: right;\n",
              "    }\n",
              "</style>\n",
              "<table border=\"1\" class=\"dataframe\">\n",
              "  <thead>\n",
              "    <tr style=\"text-align: right;\">\n",
              "      <th></th>\n",
              "      <th>accuracy</th>\n",
              "      <th>precision</th>\n",
              "      <th>recall</th>\n",
              "      <th>f1</th>\n",
              "    </tr>\n",
              "  </thead>\n",
              "  <tbody>\n",
              "    <tr>\n",
              "      <th>Baseline</th>\n",
              "      <td>95.637584</td>\n",
              "      <td>0.957846</td>\n",
              "      <td>0.956376</td>\n",
              "      <td>0.956246</td>\n",
              "    </tr>\n",
              "    <tr>\n",
              "      <th>Simple_dense</th>\n",
              "      <td>90.268456</td>\n",
              "      <td>0.907635</td>\n",
              "      <td>0.902685</td>\n",
              "      <td>0.903972</td>\n",
              "    </tr>\n",
              "    <tr>\n",
              "      <th>Conv1D</th>\n",
              "      <td>97.315436</td>\n",
              "      <td>0.973837</td>\n",
              "      <td>0.973154</td>\n",
              "      <td>0.973240</td>\n",
              "    </tr>\n",
              "    <tr>\n",
              "      <th>LSTM</th>\n",
              "      <td>89.261745</td>\n",
              "      <td>0.902107</td>\n",
              "      <td>0.892617</td>\n",
              "      <td>0.894016</td>\n",
              "    </tr>\n",
              "    <tr>\n",
              "      <th>GRU</th>\n",
              "      <td>75.838926</td>\n",
              "      <td>0.765802</td>\n",
              "      <td>0.758389</td>\n",
              "      <td>0.760957</td>\n",
              "    </tr>\n",
              "    <tr>\n",
              "      <th>Bidirectional</th>\n",
              "      <td>76.174497</td>\n",
              "      <td>0.774993</td>\n",
              "      <td>0.761745</td>\n",
              "      <td>0.763441</td>\n",
              "    </tr>\n",
              "  </tbody>\n",
              "</table>\n",
              "</div>\n",
              "      <button class=\"colab-df-convert\" onclick=\"convertToInteractive('df-596ccca2-4ef0-48d1-b98f-e98136213248')\"\n",
              "              title=\"Convert this dataframe to an interactive table.\"\n",
              "              style=\"display:none;\">\n",
              "        \n",
              "  <svg xmlns=\"http://www.w3.org/2000/svg\" height=\"24px\"viewBox=\"0 0 24 24\"\n",
              "       width=\"24px\">\n",
              "    <path d=\"M0 0h24v24H0V0z\" fill=\"none\"/>\n",
              "    <path d=\"M18.56 5.44l.94 2.06.94-2.06 2.06-.94-2.06-.94-.94-2.06-.94 2.06-2.06.94zm-11 1L8.5 8.5l.94-2.06 2.06-.94-2.06-.94L8.5 2.5l-.94 2.06-2.06.94zm10 10l.94 2.06.94-2.06 2.06-.94-2.06-.94-.94-2.06-.94 2.06-2.06.94z\"/><path d=\"M17.41 7.96l-1.37-1.37c-.4-.4-.92-.59-1.43-.59-.52 0-1.04.2-1.43.59L10.3 9.45l-7.72 7.72c-.78.78-.78 2.05 0 2.83L4 21.41c.39.39.9.59 1.41.59.51 0 1.02-.2 1.41-.59l7.78-7.78 2.81-2.81c.8-.78.8-2.07 0-2.86zM5.41 20L4 18.59l7.72-7.72 1.47 1.35L5.41 20z\"/>\n",
              "  </svg>\n",
              "      </button>\n",
              "      \n",
              "  <style>\n",
              "    .colab-df-container {\n",
              "      display:flex;\n",
              "      flex-wrap:wrap;\n",
              "      gap: 12px;\n",
              "    }\n",
              "\n",
              "    .colab-df-convert {\n",
              "      background-color: #E8F0FE;\n",
              "      border: none;\n",
              "      border-radius: 50%;\n",
              "      cursor: pointer;\n",
              "      display: none;\n",
              "      fill: #1967D2;\n",
              "      height: 32px;\n",
              "      padding: 0 0 0 0;\n",
              "      width: 32px;\n",
              "    }\n",
              "\n",
              "    .colab-df-convert:hover {\n",
              "      background-color: #E2EBFA;\n",
              "      box-shadow: 0px 1px 2px rgba(60, 64, 67, 0.3), 0px 1px 3px 1px rgba(60, 64, 67, 0.15);\n",
              "      fill: #174EA6;\n",
              "    }\n",
              "\n",
              "    [theme=dark] .colab-df-convert {\n",
              "      background-color: #3B4455;\n",
              "      fill: #D2E3FC;\n",
              "    }\n",
              "\n",
              "    [theme=dark] .colab-df-convert:hover {\n",
              "      background-color: #434B5C;\n",
              "      box-shadow: 0px 1px 3px 1px rgba(0, 0, 0, 0.15);\n",
              "      filter: drop-shadow(0px 1px 2px rgba(0, 0, 0, 0.3));\n",
              "      fill: #FFFFFF;\n",
              "    }\n",
              "  </style>\n",
              "\n",
              "      <script>\n",
              "        const buttonEl =\n",
              "          document.querySelector('#df-596ccca2-4ef0-48d1-b98f-e98136213248 button.colab-df-convert');\n",
              "        buttonEl.style.display =\n",
              "          google.colab.kernel.accessAllowed ? 'block' : 'none';\n",
              "\n",
              "        async function convertToInteractive(key) {\n",
              "          const element = document.querySelector('#df-596ccca2-4ef0-48d1-b98f-e98136213248');\n",
              "          const dataTable =\n",
              "            await google.colab.kernel.invokeFunction('convertToInteractive',\n",
              "                                                     [key], {});\n",
              "          if (!dataTable) return;\n",
              "\n",
              "          const docLinkHtml = 'Like what you see? Visit the ' +\n",
              "            '<a target=\"_blank\" href=https://colab.research.google.com/notebooks/data_table.ipynb>data table notebook</a>'\n",
              "            + ' to learn more about interactive tables.';\n",
              "          element.innerHTML = '';\n",
              "          dataTable['output_type'] = 'display_data';\n",
              "          await google.colab.output.renderOutput(dataTable, element);\n",
              "          const docLink = document.createElement('div');\n",
              "          docLink.innerHTML = docLinkHtml;\n",
              "          element.appendChild(docLink);\n",
              "        }\n",
              "      </script>\n",
              "    </div>\n",
              "  </div>\n",
              "  "
            ]
          },
          "metadata": {},
          "execution_count": 87
        }
      ]
    },
    {
      "cell_type": "code",
      "source": [
        "# Reduce the accuracy to same scale as other metrics\n",
        "all_model_results[\"accuracy\"] = all_model_results[\"accuracy\"]/100"
      ],
      "metadata": {
        "id": "DivdiUuPPDJv"
      },
      "execution_count": null,
      "outputs": []
    },
    {
      "cell_type": "code",
      "source": [
        "# Plot and compare all of the model results\n",
        "all_model_results.plot(kind=\"bar\", figsize=(10, 7)).legend(bbox_to_anchor=(1.0, 1.0))"
      ],
      "metadata": {
        "colab": {
          "base_uri": "https://localhost:8080/",
          "height": 505
        },
        "id": "zJTZN-DhPLrX",
        "outputId": "5bb9401e-068b-4e9f-df4b-f259e994eb38"
      },
      "execution_count": null,
      "outputs": [
        {
          "output_type": "execute_result",
          "data": {
            "text/plain": [
              "<matplotlib.legend.Legend at 0x7fa65158b290>"
            ]
          },
          "metadata": {},
          "execution_count": 89
        },
        {
          "output_type": "display_data",
          "data": {
            "text/plain": [
              "<Figure size 720x504 with 1 Axes>"
            ],
            "image/png": "[encoded data removed]"
          },
          "metadata": {
            "needs_background": "light"
          }
        }
      ]
    },
    {
      "cell_type": "code",
      "source": [
        "# Model performance using 'f1' score\n",
        "all_model_results.sort_values(\"f1\", ascending=False)[\"f1\"].plot(kind=\"bar\", figsize=(10, 7),color='black');"
      ],
      "metadata": {
        "colab": {
          "base_uri": "https://localhost:8080/",
          "height": 488
        },
        "id": "xorvLOCXPOKn",
        "outputId": "4848a31c-2003-449a-b7a2-b907ad2b03f3"
      },
      "execution_count": null,
      "outputs": [
        {
          "output_type": "display_data",
          "data": {
            "text/plain": [
              "<Figure size 720x504 with 1 Axes>"
            ],
            "image/png": "[encoded data removed]"
          },
          "metadata": {
            "needs_background": "light"
          }
        }
      ]
    },
    {
      "cell_type": "markdown",
      "source": [
        "## 6 Model Tracking using Tensorboard"
      ],
      "metadata": {
        "id": "xtLWoXbrCe7v"
      }
    },
    {
      "cell_type": "code",
      "source": [
        "# !tensorboard dev upload --logdir Model_Tracking/\\\n",
        "#    --name \"News Classification models \""
      ],
      "metadata": {
        "id": "f3HCMkf3PUGG"
      },
      "execution_count": null,
      "outputs": []
    },
    {
      "cell_type": "markdown",
      "source": [
        "## 7.Save and Load best performing model"
      ],
      "metadata": {
        "id": "UCvfv_6oDlwC"
      }
    },
    {
      "cell_type": "code",
      "source": [
        "# Save model\n",
        "model_2.save('CNN1d.h5')\n",
        "model_2.save_weights('CNN_weights.h5')"
      ],
      "metadata": {
        "id": "fLfwAGzoP_bP"
      },
      "execution_count": null,
      "outputs": []
    },
    {
      "cell_type": "code",
      "source": [
        "# load model\n",
        "load_model =tf.keras.models.load_model('CNN1d.h5')\n",
        "# Summary\n",
        "load_model.summary()"
      ],
      "metadata": {
        "colab": {
          "base_uri": "https://localhost:8080/"
        },
        "id": "VTlG53N_D_tv",
        "outputId": "7d871a9e-a28b-4ab2-fb0b-9507bedc51f3"
      },
      "execution_count": null,
      "outputs": [
        {
          "output_type": "stream",
          "name": "stdout",
          "text": [
            "Model: \"sequential_1\"\n",
            "_________________________________________________________________\n",
            " Layer (type)                Output Shape              Param #   \n",
            "=================================================================\n",
            " embedding_1 (Embedding)     (None, 593, 128)          1280000   \n",
            "                                                                 \n",
            " dropout (Dropout)           (None, 593, 128)          0         \n",
            "                                                                 \n",
            " conv1d (Conv1D)             (None, 591, 250)          96250     \n",
            "                                                                 \n",
            " global_max_pooling1d (Globa  (None, 250)              0         \n",
            " lMaxPooling1D)                                                  \n",
            "                                                                 \n",
            " dense_4 (Dense)             (None, 250)               62750     \n",
            "                                                                 \n",
            " dropout_1 (Dropout)         (None, 250)               0         \n",
            "                                                                 \n",
            " dense_5 (Dense)             (None, 5)                 1255      \n",
            "                                                                 \n",
            "=================================================================\n",
            "Total params: 1,440,255\n",
            "Trainable params: 1,440,255\n",
            "Non-trainable params: 0\n",
            "_________________________________________________________________\n"
          ]
        }
      ]
    },
    {
      "cell_type": "code",
      "source": [
        "load_model.evaluate(X_test, y_test_one_hot)"
      ],
      "metadata": {
        "colab": {
          "base_uri": "https://localhost:8080/"
        },
        "id": "lGNzRmQXE5XG",
        "outputId": "dc7e3f32-3c64-43bf-f669-cb0038c33a10"
      },
      "execution_count": null,
      "outputs": [
        {
          "output_type": "stream",
          "name": "stdout",
          "text": [
            "10/10 [==============================] - 0s 5ms/step - loss: 0.0750 - accuracy: 0.9732\n"
          ]
        },
        {
          "output_type": "execute_result",
          "data": {
            "text/plain": [
              "[0.07495981454849243, 0.9731543660163879]"
            ]
          },
          "metadata": {},
          "execution_count": 95
        }
      ]
    },
    {
      "cell_type": "markdown",
      "source": [
        "## 8.Finding saved model performance of Test dataset"
      ],
      "metadata": {
        "id": "-0ghKpONFa3O"
      }
    },
    {
      "cell_type": "code",
      "source": [
        "# test dataset\n",
        "test_df = pd.read_csv('BBC News Test.csv')\n",
        "\n",
        "# Check head\n",
        "test_df.head()"
      ],
      "metadata": {
        "colab": {
          "base_uri": "https://localhost:8080/",
          "height": 206
        },
        "id": "nSGWplBWLuO6",
        "outputId": "3f4b5ed8-aca3-43d1-b8d7-84ed57c49499"
      },
      "execution_count": null,
      "outputs": [
        {
          "output_type": "execute_result",
          "data": {
            "text/plain": [
              "   ArticleId                                               Text\n",
              "0       1018  qpr keeper day heads for preston queens park r...\n",
              "1       1319  software watching while you work software that...\n",
              "2       1138  d arcy injury adds to ireland woe gordon d arc...\n",
              "3        459  india s reliance family feud heats up the ongo...\n",
              "4       1020  boro suffer morrison injury blow middlesbrough..."
            ],
            "text/html": [
              "\n",
              "  <div id=\"df-8d2f90c9-a0f0-48b9-8c57-ad290f1ada15\">\n",
              "    <div class=\"colab-df-container\">\n",
              "      <div>\n",
              "<style scoped>\n",
              "    .dataframe tbody tr th:only-of-type {\n",
              "        vertical-align: middle;\n",
              "    }\n",
              "\n",
              "    .dataframe tbody tr th {\n",
              "        vertical-align: top;\n",
              "    }\n",
              "\n",
              "    .dataframe thead th {\n",
              "        text-align: right;\n",
              "    }\n",
              "</style>\n",
              "<table border=\"1\" class=\"dataframe\">\n",
              "  <thead>\n",
              "    <tr style=\"text-align: right;\">\n",
              "      <th></th>\n",
              "      <th>ArticleId</th>\n",
              "      <th>Text</th>\n",
              "    </tr>\n",
              "  </thead>\n",
              "  <tbody>\n",
              "    <tr>\n",
              "      <th>0</th>\n",
              "      <td>1018</td>\n",
              "      <td>qpr keeper day heads for preston queens park r...</td>\n",
              "    </tr>\n",
              "    <tr>\n",
              "      <th>1</th>\n",
              "      <td>1319</td>\n",
              "      <td>software watching while you work software that...</td>\n",
              "    </tr>\n",
              "    <tr>\n",
              "      <th>2</th>\n",
              "      <td>1138</td>\n",
              "      <td>d arcy injury adds to ireland woe gordon d arc...</td>\n",
              "    </tr>\n",
              "    <tr>\n",
              "      <th>3</th>\n",
              "      <td>459</td>\n",
              "      <td>india s reliance family feud heats up the ongo...</td>\n",
              "    </tr>\n",
              "    <tr>\n",
              "      <th>4</th>\n",
              "      <td>1020</td>\n",
              "      <td>boro suffer morrison injury blow middlesbrough...</td>\n",
              "    </tr>\n",
              "  </tbody>\n",
              "</table>\n",
              "</div>\n",
              "      <button class=\"colab-df-convert\" onclick=\"convertToInteractive('df-8d2f90c9-a0f0-48b9-8c57-ad290f1ada15')\"\n",
              "              title=\"Convert this dataframe to an interactive table.\"\n",
              "              style=\"display:none;\">\n",
              "        \n",
              "  <svg xmlns=\"http://www.w3.org/2000/svg\" height=\"24px\"viewBox=\"0 0 24 24\"\n",
              "       width=\"24px\">\n",
              "    <path d=\"M0 0h24v24H0V0z\" fill=\"none\"/>\n",
              "    <path d=\"M18.56 5.44l.94 2.06.94-2.06 2.06-.94-2.06-.94-.94-2.06-.94 2.06-2.06.94zm-11 1L8.5 8.5l.94-2.06 2.06-.94-2.06-.94L8.5 2.5l-.94 2.06-2.06.94zm10 10l.94 2.06.94-2.06 2.06-.94-2.06-.94-.94-2.06-.94 2.06-2.06.94z\"/><path d=\"M17.41 7.96l-1.37-1.37c-.4-.4-.92-.59-1.43-.59-.52 0-1.04.2-1.43.59L10.3 9.45l-7.72 7.72c-.78.78-.78 2.05 0 2.83L4 21.41c.39.39.9.59 1.41.59.51 0 1.02-.2 1.41-.59l7.78-7.78 2.81-2.81c.8-.78.8-2.07 0-2.86zM5.41 20L4 18.59l7.72-7.72 1.47 1.35L5.41 20z\"/>\n",
              "  </svg>\n",
              "      </button>\n",
              "      \n",
              "  <style>\n",
              "    .colab-df-container {\n",
              "      display:flex;\n",
              "      flex-wrap:wrap;\n",
              "      gap: 12px;\n",
              "    }\n",
              "\n",
              "    .colab-df-convert {\n",
              "      background-color: #E8F0FE;\n",
              "      border: none;\n",
              "      border-radius: 50%;\n",
              "      cursor: pointer;\n",
              "      display: none;\n",
              "      fill: #1967D2;\n",
              "      height: 32px;\n",
              "      padding: 0 0 0 0;\n",
              "      width: 32px;\n",
              "    }\n",
              "\n",
              "    .colab-df-convert:hover {\n",
              "      background-color: #E2EBFA;\n",
              "      box-shadow: 0px 1px 2px rgba(60, 64, 67, 0.3), 0px 1px 3px 1px rgba(60, 64, 67, 0.15);\n",
              "      fill: #174EA6;\n",
              "    }\n",
              "\n",
              "    [theme=dark] .colab-df-convert {\n",
              "      background-color: #3B4455;\n",
              "      fill: #D2E3FC;\n",
              "    }\n",
              "\n",
              "    [theme=dark] .colab-df-convert:hover {\n",
              "      background-color: #434B5C;\n",
              "      box-shadow: 0px 1px 3px 1px rgba(0, 0, 0, 0.15);\n",
              "      filter: drop-shadow(0px 1px 2px rgba(0, 0, 0, 0.3));\n",
              "      fill: #FFFFFF;\n",
              "    }\n",
              "  </style>\n",
              "\n",
              "      <script>\n",
              "        const buttonEl =\n",
              "          document.querySelector('#df-8d2f90c9-a0f0-48b9-8c57-ad290f1ada15 button.colab-df-convert');\n",
              "        buttonEl.style.display =\n",
              "          google.colab.kernel.accessAllowed ? 'block' : 'none';\n",
              "\n",
              "        async function convertToInteractive(key) {\n",
              "          const element = document.querySelector('#df-8d2f90c9-a0f0-48b9-8c57-ad290f1ada15');\n",
              "          const dataTable =\n",
              "            await google.colab.kernel.invokeFunction('convertToInteractive',\n",
              "                                                     [key], {});\n",
              "          if (!dataTable) return;\n",
              "\n",
              "          const docLinkHtml = 'Like what you see? Visit the ' +\n",
              "            '<a target=\"_blank\" href=https://colab.research.google.com/notebooks/data_table.ipynb>data table notebook</a>'\n",
              "            + ' to learn more about interactive tables.';\n",
              "          element.innerHTML = '';\n",
              "          dataTable['output_type'] = 'display_data';\n",
              "          await google.colab.output.renderOutput(dataTable, element);\n",
              "          const docLink = document.createElement('div');\n",
              "          docLink.innerHTML = docLinkHtml;\n",
              "          element.appendChild(docLink);\n",
              "        }\n",
              "      </script>\n",
              "    </div>\n",
              "  </div>\n",
              "  "
            ]
          },
          "metadata": {},
          "execution_count": 96
        }
      ]
    },
    {
      "cell_type": "code",
      "source": [
        "# Check test dataframe shape\n",
        "test_df.shape"
      ],
      "metadata": {
        "colab": {
          "base_uri": "https://localhost:8080/"
        },
        "id": "Av6n9V7gL7FE",
        "outputId": "9f191eb6-99ae-49f4-c7c5-45b826ac0cb7"
      },
      "execution_count": null,
      "outputs": [
        {
          "output_type": "execute_result",
          "data": {
            "text/plain": [
              "(735, 2)"
            ]
          },
          "metadata": {},
          "execution_count": 97
        }
      ]
    },
    {
      "cell_type": "code",
      "source": [
        "# Any null values\n",
        "test_df.isna().sum()"
      ],
      "metadata": {
        "colab": {
          "base_uri": "https://localhost:8080/"
        },
        "id": "oDQlZK7yMEc-",
        "outputId": "70270c15-2020-4ba1-f540-98f40a274b95"
      },
      "execution_count": null,
      "outputs": [
        {
          "output_type": "execute_result",
          "data": {
            "text/plain": [
              "ArticleId    0\n",
              "Text         0\n",
              "dtype: int64"
            ]
          },
          "metadata": {},
          "execution_count": 98
        }
      ]
    },
    {
      "cell_type": "code",
      "source": [
        "import json\n",
        "import random\n",
        "from keras_preprocessing.text import tokenizer_from_json\n",
        "#example = 'RRR 2 movie confirms by director Rajamouli'\n",
        "try:\n",
        "  test_sentences = test_df['Text'].to_list()\n",
        "  test_samples = random.sample(test_sentences, 5)\n",
        "  for test_sample in test_samples:\n",
        "    message = preprocess_text(str(test_sample))\n",
        "    input = [message]\n",
        "    with open('tokenizer.json') as f:\n",
        "      data = json.load(f)\n",
        "      tokenizer = tokenizer_from_json(data)\n",
        "    input_sequences = tokenizer.texts_to_sequences(input)\n",
        "    input_pad = pad_sequences(input_sequences, padding='post', maxlen=output_seq_len)\n",
        "    pred_probs = load_model.predict(input_pad)\n",
        "    preds = tf.argmax(pred_probs, axis=1)\n",
        "    print(f\"Pred: {preds}, label: {class_names[preds]}\")\n",
        "    print(f\"Text:\\n{test_sample}\\n\")\n",
        "    print(\"---------------------------------------------------------\\n\")\n",
        "except Exception as e:\n",
        "  print(f'Error raised!!: {e}') \n"
      ],
      "metadata": {
        "colab": {
          "base_uri": "https://localhost:8080/"
        },
        "id": "7v8rx2G1GvSU",
        "outputId": "c31e6f6a-3ea3-435e-980d-de60f8697c60"
      },
      "execution_count": null,
      "outputs": [
        {
          "output_type": "stream",
          "name": "stdout",
          "text": [
            "1/1 [==============================] - 0s 73ms/step\n",
            "Pred: [3], label: sport\n",
            "Text:\n",
            "wilkinson fit to face edinburgh england captain jonny wilkinson will make his long-awaited return from injury against edinburgh on saturday.  wilkinson  who has not played since injuring his bicep on 17 october  took part in full-contact training with newcastle falcons on wednesday. and the 25-year-old fly-half will start saturday s heineken cup match at murrayfield on the bench. but newcastle director of rugby rob andrew said:  he s fine and we hope to get him into the game at some stage.  the 25-year-old missed england s autumn internationals after aggravating the haematoma in his upper right arm against saracens. he was subsequently replaced as england captain by full-back jason robinson. sale s charlie hodgson took over the number 10 shirt in the internationals against canada  south africa and australia. wilkinson s year has been disrupted by injury as his muscle problem followed eight months on the sidelines with a shoulder injury sustained in the world cup final.\n",
            "\n",
            "---------------------------------------------------------\n",
            "\n",
            "1/1 [==============================] - 0s 16ms/step\n"
          ]
        },
        {
          "output_type": "stream",
          "name": "stderr",
          "text": [
            "/usr/local/lib/python3.7/dist-packages/ipykernel_launcher.py:18: FutureWarning: Using a non-tuple sequence for multidimensional indexing is deprecated; use `arr[tuple(seq)]` instead of `arr[seq]`. In the future this will be interpreted as an array index, `arr[np.array(seq)]`, which will result either in an error or a different result.\n"
          ]
        },
        {
          "output_type": "stream",
          "name": "stdout",
          "text": [
            "Pred: [2], label: politics\n",
            "Text:\n",
            "brown visits slum on africa trip chancellor gordon brown has visited kenya s biggest shantytown as he opened a week-long visit to africa.  mr brown s trip is designed to highlight how the uk wants to make africa s problems a priority of its chairmanship of the g8 this year. he will see an hiv/aids orphanage in tanzania and a women s credit union in mozambique before chairing a meeting of the commission for africa in cape town. at slums in narobi on wednesday  he said education needs had to be tackled.  speaking outside the olympic primary school  mr brown said:  it is simply not acceptable in the modern age for the rest of the world to stand by and have hundreds of millions of children not getting the chance at education.  he pointed to international plans to invest $10bn for education in africa over the next decade. the school is on the edge of kibera  where 800 000 live often in huts made of mud  scrap metal and cardboard. mr brown s aides say he wants to find out more about the kenyan government s education policies  which included introducing free primary education in early 2003. the chancellor has already unveiled proposals for a g8 aid package which he has likened to the marshall plan used by the united states to rebuild europe after world war two. the trip follows claims of infighting between mr brown and tony blair detailed in a new book. conservative leader michael howard is expected to seize on those reports at prime minister s questions at 1200 gmt on wednesday.\n",
            "\n",
            "---------------------------------------------------------\n",
            "\n",
            "1/1 [==============================] - 0s 16ms/step\n",
            "Pred: [2], label: politics\n",
            "Text:\n",
            "scots smoking ban details set out smoke-free areas will save lives and improve scotland s health  first minister jack mcconnell has insisted.  he told the scottish parliament on wednesday that a  comprehensive ban  on smoking in public places would be introduced by the spring of 2006. mr mcconnell said the country s health rates were  lamentable  not least because of smoking. he said fines of up to £2 500 would be levied on employers and licences would be removed for non-compliance. earlier  the scottish executive considered a range of options but agreed unanimously to introduce an all-out ban on smoking in public places. in a statement to parliament  mr mcconnell said that the licensed trade would be asked to join an expert committee prior to the ban coming into force.  the health arguments far outweighed lingering public disquiet about a complete ban and claims by the licensed trade that jobs would be lost  he told msps. he said there would be an international marketing campaign whereby  tourists can enjoy smoke free environment and the sick man of europe image becomes a thing of the past .  there are still national habits which hold us back - the time has come for this parliament to accelerate improvements in health   he declared.  health rates are lamentable because of a lack of exercise  drugs abuse  excessive drinking and over-eating.  they all make us one of the most unhealthy countries in europe  and too many smoke.  it is clear that scotland must not be held back by poor public health - the single biggest contribution devolved government can make is to reduce the toll of preventable death caused by smoking.  the legislation will be introduced as part of the health service (miscellaneous provisions) bill  which will be considered by parliament before christmas. main points of the plan:    - a comprehensive ban on smoking in all enclosed public places in scotland   - the legislation will be enforced by environmental health and local licensing officers   - licensees or employers who fail to enforce the law will face fines up to a maximum of £2 500   - licensees who persistently refuse to comply with the law will face the ultimate sanction of losing their liquor licence   - a system of issuing fixed penalty notices for those individuals who break the law will be examined   - individuals who persistently break the law will face a maximum fine of £1 000.     mr mcconnell claimed there was evidence that smoking bans had helped smokers to either give up quicker or smoke less. he said there had been falling cigarette sales of 13% in new york and 16% in ireland. mr mcconnell added that there had been a near nine per cent rise in tax revenues from new york bars and restaurants and  in ireland  only a one point three per cent volume sales fall  where they were declining before the ban. the afternoon announcement  following a cabinet meeting on wednesday morning  won broad support from opposition parties.  the scottish national party s holyrood leader  nicola sturgeon  welcomed the move but added that the public should be consulted as the clock ticked towards the ban date. she said:  the time has come for a ban on smoking in public places.  there is evidence a ban can cut deaths from passive smoking and makes it easier for the 70% of smokers who desperately want to give up the habit.  but we must also recognise that some people have concerns and reservations - there are people who are yet to be persuaded.  the scottish conservative party leader  david mcletchie  questioned what would be exempted from the ban. he was keen to know if inmates in scottish prisons would continue to be allowed to smoke. mr mcletchie asked:  would it not be ironic and perhaps entirely typical of the first minister s brave new scotland that the criminals can be smokers but the smokers will become criminals   the scottish green party s health spokeswoman  eleanor scott  said she was pleased scotland would be following the  success stories of new york and ireland . she believed the majority of people in scotland wanted to go out without having to breathe in harmful tobacco smoke.\n",
            "\n",
            "---------------------------------------------------------\n",
            "\n",
            "1/1 [==============================] - 0s 20ms/step\n",
            "Pred: [3], label: sport\n",
            "Text:\n",
            "parry puts gerrard  above money  listen to the full interview on sport on five and the bbc sport website from 1900 gmt.  but parry  speaking exclusively to bbc sport  also admits gerrard  who has been constantly linked with chelsea  will have the final say on his future. he told bbc five live:  steven is above money. he is the future of liverpool.  it doesn t matter if it s £30m  £40m or £50m  we will not accept offers. but we are also realistic enough to know we can t keep steven against his will.  on the subject of liverpool s finances  parry also revealed the club is ready to explore the possibility of a sponsorship deal for its proposed new stadium.  and responding to criticism from bbc sport pundit and former liverpool stalwart alan hansen  he insisted talks on new investment are ongoing  but added the door has not closed on shareholder and lifelong fan steve morgan. parry joined liverpool as chief executive in july 1998 from a similar role at the premier league. there have been several highs and lows during his time in charge at anfield - and he had a busy summer  overseeing the arrival of new manager rafael benitez and managing to hold on to steven gerrard.  on the subject of liverpool s captain and prize asset  parry revealed real madrid  did  ask for an option on the england midfield man during negotiations for striker fernando morientes. he said:  they were looking for ways of saying they got more out of the deal for fernando morientes  but the response to real madrid was the same - steven is not for sale.  but when asked if gerrard would be a liverpool player on the first day of next season  parry said:  i sincerely hope he will be. steven knows my views. he knows rafa s views.  we have re-affirmed recently to steven that we are trying to build a team around him. we crave success as much as he does. we know he s ambitious and nobody can argue with that.   i think steven would dearly love to win things with liverpool more than he d like to do anything else.  we all want to see progress by next season. he s not alone in that. there are a lot of other players who feel the same  so we all have a common aim.  it is expected chelsea will test liverpool with a £30m-plus bid in the summer - but parry claims he will be in no mood to listen.  there have been a lot of open secrets about steven  most of which have been complete myths. it is suggested we had a deal tied up last summer. we didn t had an offer last summer   parry explained.  we had told chelsea that as far as we were concerned he was not for sale and we didn t want to sell him. in reality it didn t go beyond that.  maybe there will be an offer in the summer. maybe there won t.   our position is we want steven to stay  but we are also realistic enough and have enough respect for steven - and he has enough respect for us - to know that it is his decision that will be crucial.  you are not going to keep a player like steven against his will. that just doesn t work  but any idea we are going to accept offers for steven and then tell him  by the way we ve decided to sell you  is not on the agenda. you can forget that.  parry is currently in the process of finalising funding for liverpool s new stadium in stanley park  which is set to open in 2007. and he confessed arsenal s £100m deal with emirates to sponsor their new ground - complete with naming rights - has given the anfield club serious food for thought. he said:  i have to say historically it is something i have been against  and i have been on record as saying that  but i think the size of the arsenal deal is a real eye-opener.   i would say in the past deals have been done frankly far too cheaply and it just hasn t even been worth contemplating.  but the arsenal deal is the sort of deal that causes you to draw breath and say  wow - that s interesting.   my personal point of view is that i would find it a hell of a lot more palatable than a shared stadium.  some liverpool fans would find such a move highly controversial  but parry countered:  i recognise it would be an emotive issue for many supporters  but you look at the amount of money available and it could go into the team.  if it was the right partner how strong an issue is it  time will tell.  i think the stadium will always be anfield  not least because of where it is  but do we need to investigate the possibilities of sponsorship  i think it would be remiss not to.  that s not to say we have made a decision that we will go down that road  but i think it is clearly something we have to explore.   on the subject of possible new investment  parry revealed liverpool are still in negotiations with a mystery investor  with rumours of interest from the middle east. that prompted the withdrawal of tycoon steve morgan  who got frustrated by failed bids and what he claimed was indecision by the board. he also accused liverpool of using him as  a stalking horse  to attract other bids  but parry explained:  steve has never been used as a stalking horse. there s no need  and that is not the way we do business.  we had discussions with steve over the course of 2004. i think we came close to concluding a deal in the summer but it didn t happen.  quite genuinely  the new interest did appear relatively late in the day just prior to the agm in december  and as i have said it was of such potential magnitude  and that potential is so exciting  we felt we had to evaluate it. we are still evaluating it.  steve s interest was taken very much on its own merits. his enthusiasm for the club is there for all to see and who knows what the next few months will hold   the door isn t closed on anything. we had a perfectly sensible dialogue with steve last year.  we have a common interest in making liverpool successful. that s a dream we all share  so as far as i m concerned the door is not closed.   i would take £50m if we had no investment  but if we did  keep him. as for the stadium  if it gets us cash what difference does it make really   £50m for gerrard  i don t care who you are  the directors would take the money and it is the way it should be. we cannot let that sum of money go  despite gerrard s quality.  through a cleverly worded statement  the club has effectively forced gerrard to publicly make the decision for himself  which i think is the right thing to do.  critical time for liverpool with regards to gerrard. ideally we would want to secure his future to the club for the long term. i am hoping he doesn t walk out of the club like michael owen did for very little cash.  £50m realistically would allow rafa to completely rebuild the squad  however  if we can afford to do this and keep gerrard we will be better for it. i would however be happy with gerrard s transfer for any fee over £35m.  parry s statements are clever in that any future gerrard transfer cannot be construed as a lack of ambition by the club to not try and keep their best players. upping the ante is another smart move by parry.  i would keep gerrard. no amount of money could replace his obvious love of the club and determination to succeed.  the key is if gerrard comes out and says that he is happy. clearly  if he isn t  then we would be foolish not to sell. the worrying thing is who would you buy (or who would come) pending possible non-champions league football.\n",
            "\n",
            "---------------------------------------------------------\n",
            "\n",
            "1/1 [==============================] - 0s 16ms/step\n",
            "Pred: [3], label: sport\n",
            "Text:\n",
            "gardener battles to narrow win jason gardener fought all the way to the line to narrowly claim the men s 60m title at the norwich union indoor trials and aaas championships.  the world 60m champion got off to a rolling start and had to dig deep to dip ahead of mark findlay and darren chin  who both set personal bests.  it was a close race   admitted gardener.  i stumbled out the blocks but my experience told through.  i still feel there s more life in me and i believe i can go faster.  gardener s performance in sheffield could have been affected by the news  which he heard before his semi-final  that his european record had been broken frenchman ronald pognon  who will be a real threat at the european championships  set a new time of 6.45  one-hundreth of a second faster than gardener s previous mark. favourite  delivered a powerful performance to take the women s 60m title in 7.27 seconds.  you ll see me in madrid and i feel there is a lot more to come along   said the 22-year-old. katherine endacott battled hard to take second and dip under the european qualifying mark. defending champion joice maduaka had pulled out of the final with a chest infection.  was on record-breaking form as she stormed to the women s 60m hurdles crown. the 25-year-old set a new british record for the second time in seven days  clocking 7.96 seconds to finish ahead of rival diane allahgreen.  i m so happy   a tearful claxton told bbc sport.  all the years i ve been running and i m getting recognition.  claxton s time was also good enough to qualify for the european championships.  the men s 800m went to form in sheffield as  dominated the race from start to finish. the northern ireland athlete went off at a startling pace but had to hold off the challenge of welshman jimmy watkins over the final 200m to win in one minute  47.96 seconds. both mcilory and watkins  who set a life-time best of 1:48.32  had already booked their places in madrid and were again well within the qualifying time.  i had to go out and go through all the gears before the europeans and i won t run again until then   said mcilroy.  could not reach the european mark in the women s race as she crossed the line to win in 2:04.45. olympic bronze heptathlon medallist  rounded off a useful weekend with two more personal bests in sheffield. the 28-year-old reached 1.80m in the high jump and clocked 8.47secs in the heats of the 60m hurdles.  i ve surprised myself   said sotherton.  i m starting to thrive on the pressure but if i don t perform then it s not the end of the world.  pole vaulter  made a winning return to major competition after a drugs ban. the trafford athlete  who has served a two-year ban after testing positive for anabolic steroids  clinched the title with a championship record 4.25m.  also set a new championship mark in the men s triple jump title in sheffield. the 26-year-old  who has been training in australia over the winter  landed 17.30m with his final effort - the longest leap in the world this year.  i didn t have a clue   said idowu.  i ve not jumped indoors before and i just wanted the qualifying mark.  but this isn t a bad start and hopefully i ll come back from madrid with a gold medal.  nathan douglas continued his steady progress this season as he set a life-time best of 16.76m in second while jonathan moore took third.  and  resumed their rivalry in the long jump competition  both achieving the european standard. commonwealth champion morgan reached a personal best of 7.96m on his very first jump and then promptly retired with a bruised heel. olympian tomlinson tried to play catch up with his six jumps but had to settle for a season s best jump of 7.91m.  i was advised not to jump by my doctor and so i m pleased to come here and get the qualifying mark   said tomlinson.    now based at loughborough  sprinted past front runner catherine murphy in the final 100m to steal the women s 400m title. the 21-year-old ran a personal best of 53.45 seconds to win her first indoor title. wall s time was just short of the qualifying mark - something murphy already has. ireland s  took the men s title in 46.46 ahead of promising channel islands decathlete dale garland. sudanese 18-year-old rabah yusuf  who is seeking british citizenship  showed his raw talent as he burst through in third.  cleared the required 1.90m to qualify for the european championships and claim the aaas title in the women s high jump. in the men s 3 000m   powered to a new personal best of seven minutes  56.86 seconds to defend his aaas title in style. it was the first time in 11 years the eight-minute barrier has been broken at the championships and was just within the european mark.  took the women s 1500m aaas title in the absence of kelly holmes. her time of 4:19.11 was not good enough to qualify for madrid but ovens had already opted out of the championships. the men s race was won by    who had to fight off a closing pack to claim the title in 3:45.87.\n",
            "\n",
            "---------------------------------------------------------\n",
            "\n"
          ]
        }
      ]
    },
    {
      "cell_type": "markdown",
      "source": [
        "## 9.Finding most wrong predictions"
      ],
      "metadata": {
        "id": "FvYGP5SvQgbd"
      }
    },
    {
      "cell_type": "code",
      "source": [
        "val_df = pd.DataFrame({'Text': X_test_sent,\n",
        "                      'Target': y_test_labels_encoded,\n",
        "                      'Pred': model_2_preds})"
      ],
      "metadata": {
        "id": "8duAux9GPYkI"
      },
      "execution_count": null,
      "outputs": []
    },
    {
      "cell_type": "code",
      "source": [
        "val_df"
      ],
      "metadata": {
        "colab": {
          "base_uri": "https://localhost:8080/",
          "height": 424
        },
        "id": "oxxQ4lpSQYSm",
        "outputId": "f2e7aa34-f66c-4354-893c-115d5f62dcf5"
      },
      "execution_count": null,
      "outputs": [
        {
          "output_type": "execute_result",
          "data": {
            "text/plain": [
              "                                                  Text  Target  Pred\n",
              "0    wal mart is sued over rude lyrics the parents ...       1     1\n",
              "1    howard taunts blair over splits tony blair feu...       2     2\n",
              "2    fox attacks blair tory lies tony blair lied wh...       2     2\n",
              "3    online commons to spark debate online communit...       4     4\n",
              "4    piero gives rugby perspective bbc sport unveil...       4     4\n",
              "..                                                 ...     ...   ...\n",
              "293  us crude prices surge above us crude prices ha...       0     0\n",
              "294  saudi ministry to employ women women will be e...       0     2\n",
              "295  label withdraws mcfadden video the new video o...       1     1\n",
              "296  california sets fines for spyware the makers o...       4     4\n",
              "297  stars gear up for bafta ceremony film stars fr...       1     1\n",
              "\n",
              "[298 rows x 3 columns]"
            ],
            "text/html": [
              "\n",
              "  <div id=\"df-155e9149-5c3c-4192-9e45-217e3e481505\">\n",
              "    <div class=\"colab-df-container\">\n",
              "      <div>\n",
              "<style scoped>\n",
              "    .dataframe tbody tr th:only-of-type {\n",
              "        vertical-align: middle;\n",
              "    }\n",
              "\n",
              "    .dataframe tbody tr th {\n",
              "        vertical-align: top;\n",
              "    }\n",
              "\n",
              "    .dataframe thead th {\n",
              "        text-align: right;\n",
              "    }\n",
              "</style>\n",
              "<table border=\"1\" class=\"dataframe\">\n",
              "  <thead>\n",
              "    <tr style=\"text-align: right;\">\n",
              "      <th></th>\n",
              "      <th>Text</th>\n",
              "      <th>Target</th>\n",
              "      <th>Pred</th>\n",
              "    </tr>\n",
              "  </thead>\n",
              "  <tbody>\n",
              "    <tr>\n",
              "      <th>0</th>\n",
              "      <td>wal mart is sued over rude lyrics the parents ...</td>\n",
              "      <td>1</td>\n",
              "      <td>1</td>\n",
              "    </tr>\n",
              "    <tr>\n",
              "      <th>1</th>\n",
              "      <td>howard taunts blair over splits tony blair feu...</td>\n",
              "      <td>2</td>\n",
              "      <td>2</td>\n",
              "    </tr>\n",
              "    <tr>\n",
              "      <th>2</th>\n",
              "      <td>fox attacks blair tory lies tony blair lied wh...</td>\n",
              "      <td>2</td>\n",
              "      <td>2</td>\n",
              "    </tr>\n",
              "    <tr>\n",
              "      <th>3</th>\n",
              "      <td>online commons to spark debate online communit...</td>\n",
              "      <td>4</td>\n",
              "      <td>4</td>\n",
              "    </tr>\n",
              "    <tr>\n",
              "      <th>4</th>\n",
              "      <td>piero gives rugby perspective bbc sport unveil...</td>\n",
              "      <td>4</td>\n",
              "      <td>4</td>\n",
              "    </tr>\n",
              "    <tr>\n",
              "      <th>...</th>\n",
              "      <td>...</td>\n",
              "      <td>...</td>\n",
              "      <td>...</td>\n",
              "    </tr>\n",
              "    <tr>\n",
              "      <th>293</th>\n",
              "      <td>us crude prices surge above us crude prices ha...</td>\n",
              "      <td>0</td>\n",
              "      <td>0</td>\n",
              "    </tr>\n",
              "    <tr>\n",
              "      <th>294</th>\n",
              "      <td>saudi ministry to employ women women will be e...</td>\n",
              "      <td>0</td>\n",
              "      <td>2</td>\n",
              "    </tr>\n",
              "    <tr>\n",
              "      <th>295</th>\n",
              "      <td>label withdraws mcfadden video the new video o...</td>\n",
              "      <td>1</td>\n",
              "      <td>1</td>\n",
              "    </tr>\n",
              "    <tr>\n",
              "      <th>296</th>\n",
              "      <td>california sets fines for spyware the makers o...</td>\n",
              "      <td>4</td>\n",
              "      <td>4</td>\n",
              "    </tr>\n",
              "    <tr>\n",
              "      <th>297</th>\n",
              "      <td>stars gear up for bafta ceremony film stars fr...</td>\n",
              "      <td>1</td>\n",
              "      <td>1</td>\n",
              "    </tr>\n",
              "  </tbody>\n",
              "</table>\n",
              "<p>298 rows × 3 columns</p>\n",
              "</div>\n",
              "      <button class=\"colab-df-convert\" onclick=\"convertToInteractive('df-155e9149-5c3c-4192-9e45-217e3e481505')\"\n",
              "              title=\"Convert this dataframe to an interactive table.\"\n",
              "              style=\"display:none;\">\n",
              "        \n",
              "  <svg xmlns=\"http://www.w3.org/2000/svg\" height=\"24px\"viewBox=\"0 0 24 24\"\n",
              "       width=\"24px\">\n",
              "    <path d=\"M0 0h24v24H0V0z\" fill=\"none\"/>\n",
              "    <path d=\"M18.56 5.44l.94 2.06.94-2.06 2.06-.94-2.06-.94-.94-2.06-.94 2.06-2.06.94zm-11 1L8.5 8.5l.94-2.06 2.06-.94-2.06-.94L8.5 2.5l-.94 2.06-2.06.94zm10 10l.94 2.06.94-2.06 2.06-.94-2.06-.94-.94-2.06-.94 2.06-2.06.94z\"/><path d=\"M17.41 7.96l-1.37-1.37c-.4-.4-.92-.59-1.43-.59-.52 0-1.04.2-1.43.59L10.3 9.45l-7.72 7.72c-.78.78-.78 2.05 0 2.83L4 21.41c.39.39.9.59 1.41.59.51 0 1.02-.2 1.41-.59l7.78-7.78 2.81-2.81c.8-.78.8-2.07 0-2.86zM5.41 20L4 18.59l7.72-7.72 1.47 1.35L5.41 20z\"/>\n",
              "  </svg>\n",
              "      </button>\n",
              "      \n",
              "  <style>\n",
              "    .colab-df-container {\n",
              "      display:flex;\n",
              "      flex-wrap:wrap;\n",
              "      gap: 12px;\n",
              "    }\n",
              "\n",
              "    .colab-df-convert {\n",
              "      background-color: #E8F0FE;\n",
              "      border: none;\n",
              "      border-radius: 50%;\n",
              "      cursor: pointer;\n",
              "      display: none;\n",
              "      fill: #1967D2;\n",
              "      height: 32px;\n",
              "      padding: 0 0 0 0;\n",
              "      width: 32px;\n",
              "    }\n",
              "\n",
              "    .colab-df-convert:hover {\n",
              "      background-color: #E2EBFA;\n",
              "      box-shadow: 0px 1px 2px rgba(60, 64, 67, 0.3), 0px 1px 3px 1px rgba(60, 64, 67, 0.15);\n",
              "      fill: #174EA6;\n",
              "    }\n",
              "\n",
              "    [theme=dark] .colab-df-convert {\n",
              "      background-color: #3B4455;\n",
              "      fill: #D2E3FC;\n",
              "    }\n",
              "\n",
              "    [theme=dark] .colab-df-convert:hover {\n",
              "      background-color: #434B5C;\n",
              "      box-shadow: 0px 1px 3px 1px rgba(0, 0, 0, 0.15);\n",
              "      filter: drop-shadow(0px 1px 2px rgba(0, 0, 0, 0.3));\n",
              "      fill: #FFFFFF;\n",
              "    }\n",
              "  </style>\n",
              "\n",
              "      <script>\n",
              "        const buttonEl =\n",
              "          document.querySelector('#df-155e9149-5c3c-4192-9e45-217e3e481505 button.colab-df-convert');\n",
              "        buttonEl.style.display =\n",
              "          google.colab.kernel.accessAllowed ? 'block' : 'none';\n",
              "\n",
              "        async function convertToInteractive(key) {\n",
              "          const element = document.querySelector('#df-155e9149-5c3c-4192-9e45-217e3e481505');\n",
              "          const dataTable =\n",
              "            await google.colab.kernel.invokeFunction('convertToInteractive',\n",
              "                                                     [key], {});\n",
              "          if (!dataTable) return;\n",
              "\n",
              "          const docLinkHtml = 'Like what you see? Visit the ' +\n",
              "            '<a target=\"_blank\" href=https://colab.research.google.com/notebooks/data_table.ipynb>data table notebook</a>'\n",
              "            + ' to learn more about interactive tables.';\n",
              "          element.innerHTML = '';\n",
              "          dataTable['output_type'] = 'display_data';\n",
              "          await google.colab.output.renderOutput(dataTable, element);\n",
              "          const docLink = document.createElement('div');\n",
              "          docLink.innerHTML = docLinkHtml;\n",
              "          element.appendChild(docLink);\n",
              "        }\n",
              "      </script>\n",
              "    </div>\n",
              "  </div>\n",
              "  "
            ]
          },
          "metadata": {},
          "execution_count": 101
        }
      ]
    },
    {
      "cell_type": "code",
      "source": [
        "# Find the wrong predictions and sort by prediction probabilities\n",
        "most_wrong = val_df[val_df[\"Target\"] != val_df[\"Pred\"]]"
      ],
      "metadata": {
        "id": "gQffZJZYQZq9"
      },
      "execution_count": null,
      "outputs": []
    },
    {
      "cell_type": "code",
      "source": [
        "most_wrong"
      ],
      "metadata": {
        "colab": {
          "base_uri": "https://localhost:8080/",
          "height": 300
        },
        "id": "TU3bUKvaQrBH",
        "outputId": "65919d6e-3385-4e30-a458-01d155bec8c3"
      },
      "execution_count": null,
      "outputs": [
        {
          "output_type": "execute_result",
          "data": {
            "text/plain": [
              "                                                  Text  Target  Pred\n",
              "12   russia wto talks make progress talks on russia...       0     2\n",
              "117  us to probe airline travel chaos the us govern...       0     2\n",
              "163  pc ownership to double by the number of person...       4     0\n",
              "187  ink helps drive democracy in asia the kyrgyz r...       4     2\n",
              "249  us box office set for record high ticket sales...       1     0\n",
              "250  hatfield executives go on trial engineering fi...       2     0\n",
              "262  portable playstation ready to go sony playstat...       4     1\n",
              "294  saudi ministry to employ women women will be e...       0     2"
            ],
            "text/html": [
              "\n",
              "  <div id=\"df-a5b67a6f-5e35-4fc8-b29a-b5e8d22d5259\">\n",
              "    <div class=\"colab-df-container\">\n",
              "      <div>\n",
              "<style scoped>\n",
              "    .dataframe tbody tr th:only-of-type {\n",
              "        vertical-align: middle;\n",
              "    }\n",
              "\n",
              "    .dataframe tbody tr th {\n",
              "        vertical-align: top;\n",
              "    }\n",
              "\n",
              "    .dataframe thead th {\n",
              "        text-align: right;\n",
              "    }\n",
              "</style>\n",
              "<table border=\"1\" class=\"dataframe\">\n",
              "  <thead>\n",
              "    <tr style=\"text-align: right;\">\n",
              "      <th></th>\n",
              "      <th>Text</th>\n",
              "      <th>Target</th>\n",
              "      <th>Pred</th>\n",
              "    </tr>\n",
              "  </thead>\n",
              "  <tbody>\n",
              "    <tr>\n",
              "      <th>12</th>\n",
              "      <td>russia wto talks make progress talks on russia...</td>\n",
              "      <td>0</td>\n",
              "      <td>2</td>\n",
              "    </tr>\n",
              "    <tr>\n",
              "      <th>117</th>\n",
              "      <td>us to probe airline travel chaos the us govern...</td>\n",
              "      <td>0</td>\n",
              "      <td>2</td>\n",
              "    </tr>\n",
              "    <tr>\n",
              "      <th>163</th>\n",
              "      <td>pc ownership to double by the number of person...</td>\n",
              "      <td>4</td>\n",
              "      <td>0</td>\n",
              "    </tr>\n",
              "    <tr>\n",
              "      <th>187</th>\n",
              "      <td>ink helps drive democracy in asia the kyrgyz r...</td>\n",
              "      <td>4</td>\n",
              "      <td>2</td>\n",
              "    </tr>\n",
              "    <tr>\n",
              "      <th>249</th>\n",
              "      <td>us box office set for record high ticket sales...</td>\n",
              "      <td>1</td>\n",
              "      <td>0</td>\n",
              "    </tr>\n",
              "    <tr>\n",
              "      <th>250</th>\n",
              "      <td>hatfield executives go on trial engineering fi...</td>\n",
              "      <td>2</td>\n",
              "      <td>0</td>\n",
              "    </tr>\n",
              "    <tr>\n",
              "      <th>262</th>\n",
              "      <td>portable playstation ready to go sony playstat...</td>\n",
              "      <td>4</td>\n",
              "      <td>1</td>\n",
              "    </tr>\n",
              "    <tr>\n",
              "      <th>294</th>\n",
              "      <td>saudi ministry to employ women women will be e...</td>\n",
              "      <td>0</td>\n",
              "      <td>2</td>\n",
              "    </tr>\n",
              "  </tbody>\n",
              "</table>\n",
              "</div>\n",
              "      <button class=\"colab-df-convert\" onclick=\"convertToInteractive('df-a5b67a6f-5e35-4fc8-b29a-b5e8d22d5259')\"\n",
              "              title=\"Convert this dataframe to an interactive table.\"\n",
              "              style=\"display:none;\">\n",
              "        \n",
              "  <svg xmlns=\"http://www.w3.org/2000/svg\" height=\"24px\"viewBox=\"0 0 24 24\"\n",
              "       width=\"24px\">\n",
              "    <path d=\"M0 0h24v24H0V0z\" fill=\"none\"/>\n",
              "    <path d=\"M18.56 5.44l.94 2.06.94-2.06 2.06-.94-2.06-.94-.94-2.06-.94 2.06-2.06.94zm-11 1L8.5 8.5l.94-2.06 2.06-.94-2.06-.94L8.5 2.5l-.94 2.06-2.06.94zm10 10l.94 2.06.94-2.06 2.06-.94-2.06-.94-.94-2.06-.94 2.06-2.06.94z\"/><path d=\"M17.41 7.96l-1.37-1.37c-.4-.4-.92-.59-1.43-.59-.52 0-1.04.2-1.43.59L10.3 9.45l-7.72 7.72c-.78.78-.78 2.05 0 2.83L4 21.41c.39.39.9.59 1.41.59.51 0 1.02-.2 1.41-.59l7.78-7.78 2.81-2.81c.8-.78.8-2.07 0-2.86zM5.41 20L4 18.59l7.72-7.72 1.47 1.35L5.41 20z\"/>\n",
              "  </svg>\n",
              "      </button>\n",
              "      \n",
              "  <style>\n",
              "    .colab-df-container {\n",
              "      display:flex;\n",
              "      flex-wrap:wrap;\n",
              "      gap: 12px;\n",
              "    }\n",
              "\n",
              "    .colab-df-convert {\n",
              "      background-color: #E8F0FE;\n",
              "      border: none;\n",
              "      border-radius: 50%;\n",
              "      cursor: pointer;\n",
              "      display: none;\n",
              "      fill: #1967D2;\n",
              "      height: 32px;\n",
              "      padding: 0 0 0 0;\n",
              "      width: 32px;\n",
              "    }\n",
              "\n",
              "    .colab-df-convert:hover {\n",
              "      background-color: #E2EBFA;\n",
              "      box-shadow: 0px 1px 2px rgba(60, 64, 67, 0.3), 0px 1px 3px 1px rgba(60, 64, 67, 0.15);\n",
              "      fill: #174EA6;\n",
              "    }\n",
              "\n",
              "    [theme=dark] .colab-df-convert {\n",
              "      background-color: #3B4455;\n",
              "      fill: #D2E3FC;\n",
              "    }\n",
              "\n",
              "    [theme=dark] .colab-df-convert:hover {\n",
              "      background-color: #434B5C;\n",
              "      box-shadow: 0px 1px 3px 1px rgba(0, 0, 0, 0.15);\n",
              "      filter: drop-shadow(0px 1px 2px rgba(0, 0, 0, 0.3));\n",
              "      fill: #FFFFFF;\n",
              "    }\n",
              "  </style>\n",
              "\n",
              "      <script>\n",
              "        const buttonEl =\n",
              "          document.querySelector('#df-a5b67a6f-5e35-4fc8-b29a-b5e8d22d5259 button.colab-df-convert');\n",
              "        buttonEl.style.display =\n",
              "          google.colab.kernel.accessAllowed ? 'block' : 'none';\n",
              "\n",
              "        async function convertToInteractive(key) {\n",
              "          const element = document.querySelector('#df-a5b67a6f-5e35-4fc8-b29a-b5e8d22d5259');\n",
              "          const dataTable =\n",
              "            await google.colab.kernel.invokeFunction('convertToInteractive',\n",
              "                                                     [key], {});\n",
              "          if (!dataTable) return;\n",
              "\n",
              "          const docLinkHtml = 'Like what you see? Visit the ' +\n",
              "            '<a target=\"_blank\" href=https://colab.research.google.com/notebooks/data_table.ipynb>data table notebook</a>'\n",
              "            + ' to learn more about interactive tables.';\n",
              "          element.innerHTML = '';\n",
              "          dataTable['output_type'] = 'display_data';\n",
              "          await google.colab.output.renderOutput(dataTable, element);\n",
              "          const docLink = document.createElement('div');\n",
              "          docLink.innerHTML = docLinkHtml;\n",
              "          element.appendChild(docLink);\n",
              "        }\n",
              "      </script>\n",
              "    </div>\n",
              "  </div>\n",
              "  "
            ]
          },
          "metadata": {},
          "execution_count": 103
        }
      ]
    },
    {
      "cell_type": "code",
      "source": [
        "len(most_wrong)"
      ],
      "metadata": {
        "colab": {
          "base_uri": "https://localhost:8080/"
        },
        "id": "0_hYSR69RD0p",
        "outputId": "830e4adc-d3c4-4217-eb03-0f1e9b41f9a7"
      },
      "execution_count": null,
      "outputs": [
        {
          "output_type": "execute_result",
          "data": {
            "text/plain": [
              "8"
            ]
          },
          "metadata": {},
          "execution_count": 104
        }
      ]
    },
    {
      "cell_type": "code",
      "source": [],
      "metadata": {
        "id": "79kuoXd9aJ81"
      },
      "execution_count": null,
      "outputs": []
    }
  ]
}